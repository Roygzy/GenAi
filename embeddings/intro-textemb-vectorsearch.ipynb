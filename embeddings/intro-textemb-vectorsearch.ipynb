{
  "cells": [
    {
      "cell_type": "code",
      "execution_count": null,
      "metadata": {
        "id": "c3_K0GGSTrhd"
      },
      "outputs": [],
      "source": [
        "# Copyright 2023 Google LLC\n",
        "#\n",
        "# Licensed under the Apache License, Version 2.0 (the \"License\");\n",
        "# you may not use this file except in compliance with the License.\n",
        "# You may obtain a copy of the License at\n",
        "#\n",
        "#     https://www.apache.org/licenses/LICENSE-2.0\n",
        "#\n",
        "# Unless required by applicable law or agreed to in writing, software\n",
        "# distributed under the License is distributed on an \"AS IS\" BASIS,\n",
        "# WITHOUT WARRANTIES OR CONDITIONS OF ANY KIND, either express or implied.\n",
        "# See the License for the specific language governing permissions and\n",
        "# limitations under the License."
      ]
    },
    {
      "cell_type": "markdown",
      "metadata": {
        "id": "7VQkf8sFTeDo"
      },
      "source": [
        "# Getting Started with Text Embeddings + Vertex AI Vector Search\n",
        "\n",
        "\n",
        "<table align=\"left\">\n",
        "  <td style=\"text-align: center\">\n",
        "    <a href=\"https://colab.research.google.com/github/GoogleCloudPlatform/generative-ai/blob/main/embeddings/intro-textemb-vectorsearch.ipynb\">\n",
        "      <img src=\"https://cloud.google.com/ml-engine/images/colab-logo-32px.png\" alt=\"Google Colaboratory logo\"><br> Run in Colab\n",
        "    </a>\n",
        "  </td>\n",
        "  <td style=\"text-align: center\">\n",
        "    <a href=\"https://github.com/GoogleCloudPlatform/generative-ai/blob/main/embeddings/intro-textemb-vectorsearch.ipynb\">\n",
        "      <img src=\"https://cloud.google.com/ml-engine/images/github-logo-32px.png\" alt=\"GitHub logo\"><br> View on GitHub\n",
        "    </a>\n",
        "  </td>\n",
        "  <td style=\"text-align: center\">\n",
        "    <a href=\"https://console.cloud.google.com/vertex-ai/workbench/deploy-notebook?download_url=https://raw.githubusercontent.com/GoogleCloudPlatform/generative-ai/main/embeddings/intro-textemb-vectorsearch.ipynb\">\n",
        "      <img src=\"https://lh3.googleusercontent.com/UiNooY4LUgW_oTvpsNhPpQzsstV5W8F7rYgxgGBD85cWJoLmrOzhVs_ksK_vgx40SHs7jCqkTkCk=e14-rj-sc0xffffff-h130-w32\" alt=\"Vertex AI logo\"><br> Open in Vertex AI Workbench\n",
        "    </a>\n",
        "  </td>\n",
        "</table>"
      ]
    },
    {
      "cell_type": "markdown",
      "metadata": {
        "id": "UXURrXGP0y4i"
      },
      "source": [
        "| | |\n",
        "|-|-|\n",
        "|Author(s) | [Smitha Venkat](https://github.com/smitha-google), [Kaz Sato](https://github.com/kazunori279)|"
      ]
    },
    {
      "cell_type": "markdown",
      "metadata": {
        "id": "UEgf949H0y4j"
      },
      "source": [
        "## Introduction\n",
        "\n",
        "In this tutorial, you learn how to use Google Cloud AI tools to quickly bring the power of Large Language Models to enterprise systems.  \n",
        "\n",
        "This tutorial covers the following -\n",
        "\n",
        "*   What are embeddings - what business challenges do they help solve ?\n",
        "*   Understanding Text with Vertex AI Text Embeddings\n",
        "*   Find Embeddings fast with Vertex AI Vector Search\n",
        "*   Grounding LLM outputs with Vector Search\n",
        "\n",
        "This tutorial is based on [the blog post](https://cloud.google.com/blog/products/ai-machine-learning/how-to-use-grounding-for-your-llms-with-text-embeddings), combined with sample code.\n",
        "\n",
        "\n",
        "### Prerequisites\n",
        "\n",
        "This tutorial is designed for developers who has basic knowledge and experience with Python programming and machine learning.\n",
        "\n",
        "If you are not reading this tutorial in Qwiklab, then you need to have a Google Cloud project that is linked to a billing account to run this. Please go through [this document](https://cloud.google.com/vertex-ai/docs/start/cloud-environment) to create a project and setup a billing account for it.\n",
        "\n",
        "### Choose the runtime environment\n",
        "\n",
        "The notebook can be run on either Google Colab or [Vertex AI Workbench](https://cloud.google.com/vertex-ai-workbench).\n",
        "\n",
        "- To use Colab: Click [this link](https://colab.research.google.com/github/GoogleCloudPlatform/generative-ai/blob/main/embeddings/intro-textemb-vectorsearch.ipynb) to open the tutorial in Colab.\n",
        "\n",
        "- To use Workbench: If it is the first time to use Workbench in your Google Cloud project, open [the Workbench console](https://console.cloud.google.com/vertex-ai/workbench) and click ENABLE button to enable Notebooks API. Then click [this link](https://console.cloud.google.com/vertex-ai/workbench/deploy-notebook?download_url=https://raw.githubusercontent.com/GoogleCloudPlatform/generative-ai/main/embeddings/intro-textemb-vectorsearch.ipynb),  and select an existing notebook or create a new notebook.\n"
      ]
    },
    {
      "cell_type": "markdown",
      "metadata": {
        "id": "2pImjuenUIQz"
      },
      "source": [
        "### How much will this cost?\n",
        "\n",
        "In case you are using your own Cloud project, not a temporary project on Qwiklab, you need to spend roughly a few US dollars to finish this tutorial.\n",
        "\n",
        "The pricing of the Cloud services we will use in this tutorial are avilable in the following pages:\n",
        "\n",
        "- [Vertex AI Embeddings for Text](https://cloud.google.com/vertex-ai/pricing#generative_ai_models)\n",
        "- [Vertex AI Vector Search](https://cloud.google.com/vertex-ai/pricing#matchingengine)\n",
        "- [BigQuery](https://cloud.google.com/bigquery/pricing)\n",
        "- [Cloud Storage](https://cloud.google.com/storage/pricing)\n",
        "- [Vertex AI Workbench](https://cloud.google.com/vertex-ai/pricing#notebooks) if you use one\n",
        "\n",
        "You can use the [Pricing Calculator](https://cloud.google.com/products/calculator) to generate a cost estimate based on your projected usage. The following is an example of rough cost estimation with the calculator, assuming you will go through this tutorial a couple of time.\n",
        "\n",
        "<img src=\"https://storage.googleapis.com/github-repo/img/embeddings/vs-quickstart/pricing.png\" width=\"50%\"/>\n",
        "\n",
        "### **Warning: delete your objects after the tutorial**\n",
        "\n",
        "In case you are using your own Cloud project, please make sure to delete all the Indexes, Index Endpoints and Cloud Storage buckets (and the Workbench instance if you use one) after finishing this tutorial. Otherwise the remaining assets would incur unexpected costs.\n"
      ]
    },
    {
      "cell_type": "markdown",
      "metadata": {
        "id": "6Fu2OoUDTQ6w"
      },
      "source": [
        "# Bringing Gen AI and LLMs to production services\n",
        "\n",
        "Many people are now starting to think about how to bring Gen AI and LLMs to production services, and facing with several challenges.\n",
        "\n",
        "- \"How to integrate LLMs or AI chatbots with existing IT systems, databases and business data?\"\n",
        "- \"We have thousands of products. How can I let LLM memorize them all precisely?\"\n",
        "- \"How to handle the hallucination issues in AI chatbots to build a reliable service?\"\n",
        "\n",
        "Here is a quick solution: **grounding** with **embeddings** and **vector search**.\n",
        "\n",
        "What is grounding? What are embedding and vector search? In this tutorial, we will learn these crucial concepts to build reliable Gen AI services for enterprise use. But before we dive deeper, let's try the demo below."
      ]
    },
    {
      "cell_type": "markdown",
      "metadata": {
        "id": "ORqZYLgTm9pJ"
      },
      "source": [
        "![](https://storage.googleapis.com/gweb-cloudblog-publish/original_images/1._demo_animation.gif)\n",
        "\n",
        "**Exercise: Try the Stack Overflow semantic search demo:**\n",
        "\n",
        "This demo is available as a [public live demo](https://ai-demos.dev/). Select \"STACKOVERFLOW\" and enter any coding question as a query, so it runs a text search on **8 million** questions posted on [Stack Overflow](https://stackoverflow.com/). Try the text semantic search with some queries like 'How to shuffle rows in SQL?' or arbitrary programming questions.\n",
        "\n",
        "In this tutorial, we are going to see how to build a similar search experience - what is involved in building solutions like this using Vertex AI Embeddings API and Vector Search."
      ]
    },
    {
      "cell_type": "markdown",
      "metadata": {
        "id": "H1MAIOkCw35V"
      },
      "source": [
        "# What is Embeddings?\n",
        "\n",
        "With the rise of LLMs, why is it becoming important for IT engineers and ITDMs to understand how they work?\n",
        "\n",
        "In traditional IT systems, most data is organized as structured or tabular data, using simple keywords, labels, and categories in databases and search engines.\n",
        "\n",
        "![](https://storage.googleapis.com/github-repo/img/embeddings/textemb-vs-notebook/1.png)\n",
        "\n",
        "In contrast, AI-powered services arrange data into a simple data structure known as \"embeddings.\"\n",
        "\n",
        "![](https://storage.googleapis.com/github-repo/img/embeddings/textemb-vs-notebook/2.png)"
      ]
    },
    {
      "cell_type": "markdown",
      "metadata": {
        "id": "hJqjBmQsxz2Z"
      },
      "source": [
        "Once trained with specific content like text, images, or any content, AI creates a space called \"embedding space\", which is essentially a map of the content's meaning.\n",
        "\n",
        "![](https://storage.googleapis.com/github-repo/img/embeddings/textemb-vs-notebook/3.png)\n",
        "\n",
        "AI can identify the location of each content on the map, that's what embedding is.\n",
        "\n",
        "![](https://storage.googleapis.com/github-repo/img/embeddings/textemb-vs-notebook/4.png)\n",
        "\n",
        "Let's take an example where a text discusses movies, music, and actors, with a distribution of 10%, 2%, and 30%, respectively. In this case, the AI can create an embedding with three values: 0.1, 0.02, and 0.3, in 3 dimensional space.\n",
        "\n",
        "![](https://storage.googleapis.com/github-repo/img/embeddings/textemb-vs-notebook/5.png)\n",
        "\n",
        "AI can put content with similar meanings closely together in the space."
      ]
    },
    {
      "cell_type": "markdown",
      "metadata": {
        "id": "A5z7vyTyzk_4"
      },
      "source": [
        "This is how Google organizes data across various services like Google Search, YouTube, Play, and many others, to provide search results and recommendations with relevant content.\n",
        "\n",
        "Embeddings can also be used to represent different types of things in businesses, such as products, users, user activities, conversations, music & videos, signals from IoT sensors, and so on."
      ]
    },
    {
      "cell_type": "markdown",
      "metadata": {
        "id": "tpKVmyEe0ab9"
      },
      "source": [
        "AI and Embeddings are now playing a crucial role in creating a new way of human-computer interaction.\n",
        "\n",
        "![](https://storage.googleapis.com/github-repo/img/embeddings/textemb-vs-notebook/6.png)\n",
        "\n",
        "AI organizes data into embeddings, which represent what the user is looking for, the meaning of contents, or many other things you have in your business. This creates a new level of user experience that is becoming the new standard.\n",
        "\n",
        "To learn more about embeddings, [Foundational courses: Embeddings on Google Machine Learning Crush Course](https://developers.google.com/machine-learning/crash-course/embeddings/video-lecture) and [Meet AI’s multitool: Vector embeddings by Dale Markowitz](https://cloud.google.com/blog/topics/developers-practitioners/meet-ais-multitool-vector-embeddings) are great materials.\n",
        "\n"
      ]
    },
    {
      "cell_type": "markdown",
      "metadata": {
        "id": "ovQpiL2GUEXa"
      },
      "source": [
        "# Vertex AI Embeddings for Text\n",
        "\n",
        "With the [Vertex AI Embeddings for Text](https://cloud.google.com/vertex-ai/docs/generative-ai/embeddings/get-text-embeddings), you can easily create a text embedding with LLM. The product is also available on [Vertex AI Model Garden](https://cloud.google.com/model-garden)\n",
        "\n",
        "![](https://storage.googleapis.com/github-repo/img/embeddings/textemb-vs-notebook/7.png)\n",
        "\n",
        "This API is designed to extract embeddings from texts. It can take text input up to 3,072 input tokens, and outputs 768 dimensional text embeddings."
      ]
    },
    {
      "cell_type": "markdown",
      "metadata": {
        "id": "nwJHDPG7lU52"
      },
      "source": [
        "## LLM text embedding business use cases\n",
        "\n",
        "With the embedding API, you can apply the innovation of embeddings, combined with the LLM capability, to various text processing tasks, such as:\n",
        "\n",
        "**LLM-enabled Semantic Search**: text embeddings can be used to represent both the meaning and intent of a user's query and documents in the embedding space. Documents that have similar meaning to the user's query intent will be found fast with vector search technology. The model is capable of generating text embeddings that capture the subtle nuances of each sentence and paragraphs in the document.\n",
        "\n",
        "**LLM-enabled Text Classification**: LLM text embeddings can be used for text classification with a deep understanding of different contexts without any training or fine-tuning (so-called zero-shot learning). This wasn't possible with the past language models without task-specific training.\n",
        "\n",
        "**LLM-enabled Recommendation**: The text embedding can be used for recommendation systems as a strong feature for training recommendation models such as Two-Tower model. The model learns the relationship between the query and candidate embeddings, resulting in next-gen user experience with semantic product recommendation.\n",
        "\n",
        "LLM-enabled Clustering, Anomaly Detection, Sentiment Analysis, and more, can be also handled with the LLM-level deep semantics understanding.\n",
        "\n",
        "\n"
      ]
    },
    {
      "cell_type": "markdown",
      "metadata": {
        "id": "ga5A7koYlvlZ"
      },
      "source": [
        "## Sorting 8 million texts at \"librarian-level\" precision\n",
        "\n",
        "Vertex AI Embeddings for Text has an embedding space with 768 dimensions. As explained earlier, the space represents a huge map of a wide variety of texts in the world, organized by their meanings. With each input text, the model can find a location (embedding) in the map.\n",
        "\n",
        "By visualizing the embedding space, you can actually observe how the model sorts the texts at the \"librarian-level\" precision.\n",
        "\n",
        "**Exercise: Try the Nomic AI Atlas**\n",
        "\n",
        "[Nomic AI](http://nomic.ai/) provides a platform called Atlas for storing, visualizing and interacting with embedding spaces with high scalability and in a smooth UI, and they worked with Google for visualizing the embedding space of the 8 million Stack Overflow questions. You can try exploring around the space, zooming in and out to each data point on your browser on this page, courtesy of Nomic AI.\n",
        "\n",
        "The embedding space represents a huge map of texts, organized by their meanings\n",
        "With each input text, the model can find a location (embedding) in the map\n",
        "Like a librarian reading through millions of texts, sorting them with millions of nano-categories\n",
        "\n",
        "Try exploring it [here](https://atlas.nomic.ai/map/edaff028-12b5-42a0-8e8b-6430c9b8222b/bcb42818-3581-4fb5-ac30-9883d01f98ec). Zoom into a few categories, point each dots, and see how the LLM is sorting similar questions close together in the space.\n",
        "\n",
        "![](https://storage.googleapis.com/gweb-cloudblog-publish/images/4._Nomic_AI_Atlas.max-2200x2200.png)\n",
        "\n",
        "### The librarian-level semantic understanding\n",
        "\n",
        "Here are the examples of the librarian-level semantic understanding by Embeddings API with Stack Overflow questions.\n",
        "\n",
        "![](https://storage.googleapis.com/gweb-cloudblog-publish/images/5._semantic_understanding.max-2200x2200.png)\n",
        "\n",
        "For example, the model thinks the question “Does moving the request line to a header frame require an app change?” is similar to the question “Does an application developed on HTTP1x require modifications to run on HTTP2?”. That is because The model knows both questions talk about what's the change required to support the HTTP2 header frame.\n",
        "\n",
        "Note that this demo didn't require any training or fine-tuning with computer programming specific datasets. This is the innovative part of the zero-shot learning capability of the LLM. It can be applied to a wide variety of industries, including finance, healthcare, retail, manufacturing, construction, media, and more, for deep semantic search on the industry-focused business documents without spending time and cost for collecting industry specific datasets and training models."
      ]
    },
    {
      "cell_type": "markdown",
      "metadata": {
        "id": "-iOWOKnIvYxf"
      },
      "source": [
        "# Text Embeddings in Action\n",
        "\n",
        "Lets try using Text Embeddings in action with actual sample code."
      ]
    },
    {
      "cell_type": "markdown",
      "metadata": {
        "id": "AtXnXhF8U-8R"
      },
      "source": [
        "## Setup\n",
        "\n",
        "Before get started with the Vertex AI services, we need to setup the following.\n",
        "\n",
        "* Install Python SDK\n",
        "* Environment variables\n",
        "* Authentication (Colab only)\n",
        "* Enable APIs\n",
        "* Set IAM permissions"
      ]
    },
    {
      "cell_type": "markdown",
      "metadata": {
        "id": "UjnvWl6FLUlF"
      },
      "source": [
        "### Install Python SDK\n",
        "\n",
        "Vertex AI, Cloud Storage and BigQuery APIs can be accessed with multiple ways including REST API and Python SDK. In this tutorial we will use the SDK."
      ]
    },
    {
      "cell_type": "code",
      "execution_count": 35,
      "metadata": {
        "id": "FZgLGALt_al7",
        "outputId": "fadb7e93-42c9-496a-c92e-2a6d6f2c9288",
        "colab": {
          "base_uri": "https://localhost:8080/"
        }
      },
      "outputs": [
        {
          "output_type": "stream",
          "name": "stdout",
          "text": [
            "Requirement already satisfied: google-cloud-aiplatform in /root/.local/lib/python3.10/site-packages (1.41.0)\n",
            "Requirement already satisfied: google-cloud-storage in /root/.local/lib/python3.10/site-packages (2.14.0)\n",
            "Requirement already satisfied: google-cloud-bigquery[pandas] in /root/.local/lib/python3.10/site-packages (3.17.2)\n",
            "Requirement already satisfied: google-api-core[grpc]!=2.0.*,!=2.1.*,!=2.2.*,!=2.3.*,!=2.4.*,!=2.5.*,!=2.6.*,!=2.7.*,<3.0.0dev,>=1.32.0 in /usr/local/lib/python3.10/dist-packages (from google-cloud-aiplatform) (2.11.1)\n",
            "Requirement already satisfied: proto-plus<2.0.0dev,>=1.22.0 in /usr/local/lib/python3.10/dist-packages (from google-cloud-aiplatform) (1.23.0)\n",
            "Requirement already satisfied: protobuf!=3.20.0,!=3.20.1,!=4.21.0,!=4.21.1,!=4.21.2,!=4.21.3,!=4.21.4,!=4.21.5,<5.0.0dev,>=3.19.5 in /usr/local/lib/python3.10/dist-packages (from google-cloud-aiplatform) (3.20.3)\n",
            "Requirement already satisfied: packaging>=14.3 in /usr/local/lib/python3.10/dist-packages (from google-cloud-aiplatform) (23.2)\n",
            "Requirement already satisfied: google-cloud-resource-manager<3.0.0dev,>=1.3.3 in /usr/local/lib/python3.10/dist-packages (from google-cloud-aiplatform) (1.12.1)\n",
            "Requirement already satisfied: shapely<3.0.0dev in /usr/local/lib/python3.10/dist-packages (from google-cloud-aiplatform) (2.0.2)\n",
            "Requirement already satisfied: google-auth<3.0dev,>=2.23.3 in /usr/local/lib/python3.10/dist-packages (from google-cloud-storage) (2.27.0)\n",
            "Requirement already satisfied: google-cloud-core<3.0dev,>=2.3.0 in /usr/local/lib/python3.10/dist-packages (from google-cloud-storage) (2.3.3)\n",
            "Requirement already satisfied: google-resumable-media>=2.6.0 in /usr/local/lib/python3.10/dist-packages (from google-cloud-storage) (2.7.0)\n",
            "Requirement already satisfied: requests<3.0.0dev,>=2.18.0 in /usr/local/lib/python3.10/dist-packages (from google-cloud-storage) (2.31.0)\n",
            "Requirement already satisfied: google-crc32c<2.0dev,>=1.0 in /usr/local/lib/python3.10/dist-packages (from google-cloud-storage) (1.5.0)\n",
            "Requirement already satisfied: python-dateutil<3.0dev,>=2.7.2 in /usr/local/lib/python3.10/dist-packages (from google-cloud-bigquery[pandas]) (2.8.2)\n",
            "Requirement already satisfied: pandas>=1.1.0 in /usr/local/lib/python3.10/dist-packages (from google-cloud-bigquery[pandas]) (1.5.3)\n",
            "Requirement already satisfied: pyarrow>=3.0.0 in /usr/local/lib/python3.10/dist-packages (from google-cloud-bigquery[pandas]) (10.0.1)\n",
            "Requirement already satisfied: db-dtypes<2.0.0dev,>=0.3.0 in /usr/local/lib/python3.10/dist-packages (from google-cloud-bigquery[pandas]) (1.2.0)\n",
            "Requirement already satisfied: numpy>=1.16.6 in /usr/local/lib/python3.10/dist-packages (from db-dtypes<2.0.0dev,>=0.3.0->google-cloud-bigquery[pandas]) (1.25.2)\n",
            "Requirement already satisfied: googleapis-common-protos<2.0.dev0,>=1.56.2 in /usr/local/lib/python3.10/dist-packages (from google-api-core[grpc]!=2.0.*,!=2.1.*,!=2.2.*,!=2.3.*,!=2.4.*,!=2.5.*,!=2.6.*,!=2.7.*,<3.0.0dev,>=1.32.0->google-cloud-aiplatform) (1.62.0)\n",
            "Requirement already satisfied: grpcio<2.0dev,>=1.33.2 in /usr/local/lib/python3.10/dist-packages (from google-api-core[grpc]!=2.0.*,!=2.1.*,!=2.2.*,!=2.3.*,!=2.4.*,!=2.5.*,!=2.6.*,!=2.7.*,<3.0.0dev,>=1.32.0->google-cloud-aiplatform) (1.60.1)\n",
            "Requirement already satisfied: grpcio-status<2.0.dev0,>=1.33.2 in /usr/local/lib/python3.10/dist-packages (from google-api-core[grpc]!=2.0.*,!=2.1.*,!=2.2.*,!=2.3.*,!=2.4.*,!=2.5.*,!=2.6.*,!=2.7.*,<3.0.0dev,>=1.32.0->google-cloud-aiplatform) (1.48.2)\n",
            "Requirement already satisfied: cachetools<6.0,>=2.0.0 in /usr/local/lib/python3.10/dist-packages (from google-auth<3.0dev,>=2.23.3->google-cloud-storage) (5.3.2)\n",
            "Requirement already satisfied: pyasn1-modules>=0.2.1 in /usr/local/lib/python3.10/dist-packages (from google-auth<3.0dev,>=2.23.3->google-cloud-storage) (0.3.0)\n",
            "Requirement already satisfied: rsa<5,>=3.1.4 in /usr/local/lib/python3.10/dist-packages (from google-auth<3.0dev,>=2.23.3->google-cloud-storage) (4.9)\n",
            "Requirement already satisfied: grpc-google-iam-v1<1.0.0dev,>=0.12.4 in /usr/local/lib/python3.10/dist-packages (from google-cloud-resource-manager<3.0.0dev,>=1.3.3->google-cloud-aiplatform) (0.13.0)\n",
            "Requirement already satisfied: pytz>=2020.1 in /usr/local/lib/python3.10/dist-packages (from pandas>=1.1.0->google-cloud-bigquery[pandas]) (2023.4)\n",
            "Requirement already satisfied: six>=1.5 in /usr/local/lib/python3.10/dist-packages (from python-dateutil<3.0dev,>=2.7.2->google-cloud-bigquery[pandas]) (1.16.0)\n",
            "Requirement already satisfied: charset-normalizer<4,>=2 in /usr/local/lib/python3.10/dist-packages (from requests<3.0.0dev,>=2.18.0->google-cloud-storage) (3.3.2)\n",
            "Requirement already satisfied: idna<4,>=2.5 in /usr/local/lib/python3.10/dist-packages (from requests<3.0.0dev,>=2.18.0->google-cloud-storage) (3.6)\n",
            "Requirement already satisfied: urllib3<3,>=1.21.1 in /usr/local/lib/python3.10/dist-packages (from requests<3.0.0dev,>=2.18.0->google-cloud-storage) (2.0.7)\n",
            "Requirement already satisfied: certifi>=2017.4.17 in /usr/local/lib/python3.10/dist-packages (from requests<3.0.0dev,>=2.18.0->google-cloud-storage) (2024.2.2)\n",
            "Requirement already satisfied: pyasn1<0.6.0,>=0.4.6 in /usr/local/lib/python3.10/dist-packages (from pyasn1-modules>=0.2.1->google-auth<3.0dev,>=2.23.3->google-cloud-storage) (0.5.1)\n"
          ]
        }
      ],
      "source": [
        "!pip install --upgrade --user google-cloud-aiplatform google-cloud-storage 'google-cloud-bigquery[pandas]'"
      ]
    },
    {
      "cell_type": "markdown",
      "metadata": {
        "id": "R5Xep4W9lq-Z"
      },
      "source": [
        "### Restart current runtime\n",
        "\n",
        "To use the newly installed packages in this Jupyter runtime, you must restart the runtime. You can do this by running the cell below, which will restart the current kernel."
      ]
    },
    {
      "cell_type": "code",
      "execution_count": 36,
      "metadata": {
        "colab": {
          "base_uri": "https://localhost:8080/"
        },
        "id": "XRvKdaPDTznN",
        "outputId": "32392c57-ac7a-425d-9be9-0381876bbdda"
      },
      "outputs": [
        {
          "output_type": "execute_result",
          "data": {
            "text/plain": [
              "{'status': 'ok', 'restart': True}"
            ]
          },
          "metadata": {},
          "execution_count": 36
        }
      ],
      "source": [
        "# Restart kernel after installs so that your environment can access the new packages\n",
        "import IPython\n",
        "import time\n",
        "\n",
        "app = IPython.Application.instance()\n",
        "app.kernel.do_shutdown(True)"
      ]
    },
    {
      "cell_type": "markdown",
      "metadata": {
        "id": "SbmM4z7FOBpM"
      },
      "source": [
        "<div class=\"alert alert-block alert-warning\">\n",
        "<b>⚠️ The kernel is going to restart. Please wait until it is finished before continuing to the next step. ⚠️</b>\n",
        "</div>\n",
        "\n"
      ]
    },
    {
      "cell_type": "markdown",
      "metadata": {
        "id": "nCoTvkOJoh76"
      },
      "source": [
        "### Environment variables\n",
        "\n",
        "Sets environment variables. If asked, please replace the following `[your-project-id]` with your project ID and run it."
      ]
    },
    {
      "cell_type": "code",
      "execution_count": null,
      "metadata": {
        "id": "fkmvFRrj3nQI"
      },
      "outputs": [],
      "source": [
        "# get project ID\n",
        "PROJECT_ID = ! gcloud config get project\n",
        "PROJECT_ID = PROJECT_ID[0]\n",
        "LOCATION = \"us-central1\"\n",
        "if PROJECT_ID == \"(unset)\":\n",
        "    print(f\"Please set the project ID manually below\")"
      ]
    },
    {
      "cell_type": "code",
      "execution_count": 2,
      "metadata": {
        "id": "69XJ95rNoYG9"
      },
      "outputs": [],
      "source": [
        "# define project information\n",
        "if PROJECT_ID == \"(unset)\":\n",
        "    PROJECT_ID = \"tokyo-mind-407401\"  # @param {type:\"string\"}\n",
        "\n",
        "# generate an unique id for this session\n",
        "from datetime import datetime\n",
        "\n",
        "UID = datetime.now().strftime(\"%m%d%H%M\")"
      ]
    },
    {
      "cell_type": "markdown",
      "metadata": {
        "id": "ph7mDSMRVTIZ"
      },
      "source": [
        "### Authentication (Colab only)\n",
        "\n",
        "If you are running this notebook on Colab, you will need to run the following cell authentication. This step is not required if you are using Vertex AI Workbench as it is pre-authenticated."
      ]
    },
    {
      "cell_type": "code",
      "execution_count": 3,
      "metadata": {
        "id": "5jQkFtlimNXR"
      },
      "outputs": [],
      "source": [
        "import sys\n",
        "\n",
        "# if it's Colab runtime, authenticate the user with Google Cloud\n",
        "if \"google.colab\" in sys.modules:\n",
        "    from google.colab import auth\n",
        "\n",
        "    auth.authenticate_user()"
      ]
    },
    {
      "cell_type": "markdown",
      "metadata": {
        "id": "jUPbl4IFLmC2"
      },
      "source": [
        "### Enable APIs\n",
        "\n",
        "Run the following to enable APIs for Compute Engine, Vertex AI, Cloud Storage and BigQuery with this Google Cloud project."
      ]
    },
    {
      "cell_type": "code",
      "execution_count": 4,
      "metadata": {
        "id": "qGf0qMMQNond",
        "outputId": "aa69fc08-e747-4fbb-cdd2-8c7fec78bbd3",
        "colab": {
          "base_uri": "https://localhost:8080/"
        }
      },
      "outputs": [
        {
          "output_type": "stream",
          "name": "stdout",
          "text": [
            "Operation \"operations/acat.p2-337921060221-63e9ba88-b6f4-472b-9ff0-b4402d20fdc2\" finished successfully.\n"
          ]
        }
      ],
      "source": [
        "! gcloud services enable compute.googleapis.com aiplatform.googleapis.com storage.googleapis.com bigquery.googleapis.com --project {PROJECT_ID}"
      ]
    },
    {
      "cell_type": "markdown",
      "metadata": {
        "id": "8cF8rkN3Lnhq"
      },
      "source": [
        "### Set IAM permissions\n",
        "\n",
        "Also, we need to add access permissions to the default service account for using those services.\n",
        "\n",
        "- Go to [the IAM page](https://console.cloud.google.com/iam-admin/) in the Console\n",
        "- Look for the principal for default compute service account. It should look like: `<project-number>-compute@developer.gserviceaccount.com`\n",
        "- Click the edit button at right and click `ADD ANOTHER ROLE` to add `Vertex AI User`, `BigQuery User` and `Storage Admin` to the account.\n",
        "\n",
        "This will look like this:\n",
        "\n",
        "![](https://storage.googleapis.com/github-repo/img/embeddings/vs-quickstart/iam-setting.png)"
      ]
    },
    {
      "cell_type": "markdown",
      "metadata": {
        "id": "mahCxLXHMIls"
      },
      "source": [
        "## Getting Started with Vertex AI Embeddings for Text\n",
        "\n",
        "Now it's ready to get started with embeddings!"
      ]
    },
    {
      "cell_type": "markdown",
      "metadata": {
        "id": "rq07_-o0VoZD"
      },
      "source": [
        "### Data Preparation\n",
        "\n",
        "We will be using [the Stack Overflow public dataset](https://console.cloud.google.com/marketplace/product/stack-exchange/stack-overflow) hosted on BigQuery table `bigquery-public-data.stackoverflow.posts_questions`. This is a very big dataset with 23 million rows that doesn't fit into the memory. We are going to limit it to 1000 rows for this tutorial."
      ]
    },
    {
      "cell_type": "code",
      "execution_count": 9,
      "metadata": {
        "id": "snrzPsEQDH4S",
        "outputId": "c9e9c958-86ad-4824-a890-8dfd24e7487c",
        "colab": {
          "base_uri": "https://localhost:8080/",
          "height": 206
        }
      },
      "outputs": [
        {
          "output_type": "execute_result",
          "data": {
            "text/plain": [
              "         id                                              title\n",
              "0  20872601              Eclipse kepler create a feature patch\n",
              "1  20594683  Android: status bar notifications in specific ...\n",
              "2  20850493  How to create and save specific photo album us...\n",
              "3  20656731  How to highlight the selected item of long lis...\n",
              "4  20684988   Servicemix does not find javax.validation bundle"
            ],
            "text/html": [
              "\n",
              "  <div id=\"df-39ecccf3-075b-4df3-89ab-38240c297be9\" class=\"colab-df-container\">\n",
              "    <div>\n",
              "<style scoped>\n",
              "    .dataframe tbody tr th:only-of-type {\n",
              "        vertical-align: middle;\n",
              "    }\n",
              "\n",
              "    .dataframe tbody tr th {\n",
              "        vertical-align: top;\n",
              "    }\n",
              "\n",
              "    .dataframe thead th {\n",
              "        text-align: right;\n",
              "    }\n",
              "</style>\n",
              "<table border=\"1\" class=\"dataframe\">\n",
              "  <thead>\n",
              "    <tr style=\"text-align: right;\">\n",
              "      <th></th>\n",
              "      <th>id</th>\n",
              "      <th>title</th>\n",
              "    </tr>\n",
              "  </thead>\n",
              "  <tbody>\n",
              "    <tr>\n",
              "      <th>0</th>\n",
              "      <td>20872601</td>\n",
              "      <td>Eclipse kepler create a feature patch</td>\n",
              "    </tr>\n",
              "    <tr>\n",
              "      <th>1</th>\n",
              "      <td>20594683</td>\n",
              "      <td>Android: status bar notifications in specific ...</td>\n",
              "    </tr>\n",
              "    <tr>\n",
              "      <th>2</th>\n",
              "      <td>20850493</td>\n",
              "      <td>How to create and save specific photo album us...</td>\n",
              "    </tr>\n",
              "    <tr>\n",
              "      <th>3</th>\n",
              "      <td>20656731</td>\n",
              "      <td>How to highlight the selected item of long lis...</td>\n",
              "    </tr>\n",
              "    <tr>\n",
              "      <th>4</th>\n",
              "      <td>20684988</td>\n",
              "      <td>Servicemix does not find javax.validation bundle</td>\n",
              "    </tr>\n",
              "  </tbody>\n",
              "</table>\n",
              "</div>\n",
              "    <div class=\"colab-df-buttons\">\n",
              "\n",
              "  <div class=\"colab-df-container\">\n",
              "    <button class=\"colab-df-convert\" onclick=\"convertToInteractive('df-39ecccf3-075b-4df3-89ab-38240c297be9')\"\n",
              "            title=\"Convert this dataframe to an interactive table.\"\n",
              "            style=\"display:none;\">\n",
              "\n",
              "  <svg xmlns=\"http://www.w3.org/2000/svg\" height=\"24px\" viewBox=\"0 -960 960 960\">\n",
              "    <path d=\"M120-120v-720h720v720H120Zm60-500h600v-160H180v160Zm220 220h160v-160H400v160Zm0 220h160v-160H400v160ZM180-400h160v-160H180v160Zm440 0h160v-160H620v160ZM180-180h160v-160H180v160Zm440 0h160v-160H620v160Z\"/>\n",
              "  </svg>\n",
              "    </button>\n",
              "\n",
              "  <style>\n",
              "    .colab-df-container {\n",
              "      display:flex;\n",
              "      gap: 12px;\n",
              "    }\n",
              "\n",
              "    .colab-df-convert {\n",
              "      background-color: #E8F0FE;\n",
              "      border: none;\n",
              "      border-radius: 50%;\n",
              "      cursor: pointer;\n",
              "      display: none;\n",
              "      fill: #1967D2;\n",
              "      height: 32px;\n",
              "      padding: 0 0 0 0;\n",
              "      width: 32px;\n",
              "    }\n",
              "\n",
              "    .colab-df-convert:hover {\n",
              "      background-color: #E2EBFA;\n",
              "      box-shadow: 0px 1px 2px rgba(60, 64, 67, 0.3), 0px 1px 3px 1px rgba(60, 64, 67, 0.15);\n",
              "      fill: #174EA6;\n",
              "    }\n",
              "\n",
              "    .colab-df-buttons div {\n",
              "      margin-bottom: 4px;\n",
              "    }\n",
              "\n",
              "    [theme=dark] .colab-df-convert {\n",
              "      background-color: #3B4455;\n",
              "      fill: #D2E3FC;\n",
              "    }\n",
              "\n",
              "    [theme=dark] .colab-df-convert:hover {\n",
              "      background-color: #434B5C;\n",
              "      box-shadow: 0px 1px 3px 1px rgba(0, 0, 0, 0.15);\n",
              "      filter: drop-shadow(0px 1px 2px rgba(0, 0, 0, 0.3));\n",
              "      fill: #FFFFFF;\n",
              "    }\n",
              "  </style>\n",
              "\n",
              "    <script>\n",
              "      const buttonEl =\n",
              "        document.querySelector('#df-39ecccf3-075b-4df3-89ab-38240c297be9 button.colab-df-convert');\n",
              "      buttonEl.style.display =\n",
              "        google.colab.kernel.accessAllowed ? 'block' : 'none';\n",
              "\n",
              "      async function convertToInteractive(key) {\n",
              "        const element = document.querySelector('#df-39ecccf3-075b-4df3-89ab-38240c297be9');\n",
              "        const dataTable =\n",
              "          await google.colab.kernel.invokeFunction('convertToInteractive',\n",
              "                                                    [key], {});\n",
              "        if (!dataTable) return;\n",
              "\n",
              "        const docLinkHtml = 'Like what you see? Visit the ' +\n",
              "          '<a target=\"_blank\" href=https://colab.research.google.com/notebooks/data_table.ipynb>data table notebook</a>'\n",
              "          + ' to learn more about interactive tables.';\n",
              "        element.innerHTML = '';\n",
              "        dataTable['output_type'] = 'display_data';\n",
              "        await google.colab.output.renderOutput(dataTable, element);\n",
              "        const docLink = document.createElement('div');\n",
              "        docLink.innerHTML = docLinkHtml;\n",
              "        element.appendChild(docLink);\n",
              "      }\n",
              "    </script>\n",
              "  </div>\n",
              "\n",
              "\n",
              "<div id=\"df-ccd7fdbe-a959-4a34-a259-0b8ee295959b\">\n",
              "  <button class=\"colab-df-quickchart\" onclick=\"quickchart('df-ccd7fdbe-a959-4a34-a259-0b8ee295959b')\"\n",
              "            title=\"Suggest charts\"\n",
              "            style=\"display:none;\">\n",
              "\n",
              "<svg xmlns=\"http://www.w3.org/2000/svg\" height=\"24px\"viewBox=\"0 0 24 24\"\n",
              "     width=\"24px\">\n",
              "    <g>\n",
              "        <path d=\"M19 3H5c-1.1 0-2 .9-2 2v14c0 1.1.9 2 2 2h14c1.1 0 2-.9 2-2V5c0-1.1-.9-2-2-2zM9 17H7v-7h2v7zm4 0h-2V7h2v10zm4 0h-2v-4h2v4z\"/>\n",
              "    </g>\n",
              "</svg>\n",
              "  </button>\n",
              "\n",
              "<style>\n",
              "  .colab-df-quickchart {\n",
              "      --bg-color: #E8F0FE;\n",
              "      --fill-color: #1967D2;\n",
              "      --hover-bg-color: #E2EBFA;\n",
              "      --hover-fill-color: #174EA6;\n",
              "      --disabled-fill-color: #AAA;\n",
              "      --disabled-bg-color: #DDD;\n",
              "  }\n",
              "\n",
              "  [theme=dark] .colab-df-quickchart {\n",
              "      --bg-color: #3B4455;\n",
              "      --fill-color: #D2E3FC;\n",
              "      --hover-bg-color: #434B5C;\n",
              "      --hover-fill-color: #FFFFFF;\n",
              "      --disabled-bg-color: #3B4455;\n",
              "      --disabled-fill-color: #666;\n",
              "  }\n",
              "\n",
              "  .colab-df-quickchart {\n",
              "    background-color: var(--bg-color);\n",
              "    border: none;\n",
              "    border-radius: 50%;\n",
              "    cursor: pointer;\n",
              "    display: none;\n",
              "    fill: var(--fill-color);\n",
              "    height: 32px;\n",
              "    padding: 0;\n",
              "    width: 32px;\n",
              "  }\n",
              "\n",
              "  .colab-df-quickchart:hover {\n",
              "    background-color: var(--hover-bg-color);\n",
              "    box-shadow: 0 1px 2px rgba(60, 64, 67, 0.3), 0 1px 3px 1px rgba(60, 64, 67, 0.15);\n",
              "    fill: var(--button-hover-fill-color);\n",
              "  }\n",
              "\n",
              "  .colab-df-quickchart-complete:disabled,\n",
              "  .colab-df-quickchart-complete:disabled:hover {\n",
              "    background-color: var(--disabled-bg-color);\n",
              "    fill: var(--disabled-fill-color);\n",
              "    box-shadow: none;\n",
              "  }\n",
              "\n",
              "  .colab-df-spinner {\n",
              "    border: 2px solid var(--fill-color);\n",
              "    border-color: transparent;\n",
              "    border-bottom-color: var(--fill-color);\n",
              "    animation:\n",
              "      spin 1s steps(1) infinite;\n",
              "  }\n",
              "\n",
              "  @keyframes spin {\n",
              "    0% {\n",
              "      border-color: transparent;\n",
              "      border-bottom-color: var(--fill-color);\n",
              "      border-left-color: var(--fill-color);\n",
              "    }\n",
              "    20% {\n",
              "      border-color: transparent;\n",
              "      border-left-color: var(--fill-color);\n",
              "      border-top-color: var(--fill-color);\n",
              "    }\n",
              "    30% {\n",
              "      border-color: transparent;\n",
              "      border-left-color: var(--fill-color);\n",
              "      border-top-color: var(--fill-color);\n",
              "      border-right-color: var(--fill-color);\n",
              "    }\n",
              "    40% {\n",
              "      border-color: transparent;\n",
              "      border-right-color: var(--fill-color);\n",
              "      border-top-color: var(--fill-color);\n",
              "    }\n",
              "    60% {\n",
              "      border-color: transparent;\n",
              "      border-right-color: var(--fill-color);\n",
              "    }\n",
              "    80% {\n",
              "      border-color: transparent;\n",
              "      border-right-color: var(--fill-color);\n",
              "      border-bottom-color: var(--fill-color);\n",
              "    }\n",
              "    90% {\n",
              "      border-color: transparent;\n",
              "      border-bottom-color: var(--fill-color);\n",
              "    }\n",
              "  }\n",
              "</style>\n",
              "\n",
              "  <script>\n",
              "    async function quickchart(key) {\n",
              "      const quickchartButtonEl =\n",
              "        document.querySelector('#' + key + ' button');\n",
              "      quickchartButtonEl.disabled = true;  // To prevent multiple clicks.\n",
              "      quickchartButtonEl.classList.add('colab-df-spinner');\n",
              "      try {\n",
              "        const charts = await google.colab.kernel.invokeFunction(\n",
              "            'suggestCharts', [key], {});\n",
              "      } catch (error) {\n",
              "        console.error('Error during call to suggestCharts:', error);\n",
              "      }\n",
              "      quickchartButtonEl.classList.remove('colab-df-spinner');\n",
              "      quickchartButtonEl.classList.add('colab-df-quickchart-complete');\n",
              "    }\n",
              "    (() => {\n",
              "      let quickchartButtonEl =\n",
              "        document.querySelector('#df-ccd7fdbe-a959-4a34-a259-0b8ee295959b button');\n",
              "      quickchartButtonEl.style.display =\n",
              "        google.colab.kernel.accessAllowed ? 'block' : 'none';\n",
              "    })();\n",
              "  </script>\n",
              "</div>\n",
              "    </div>\n",
              "  </div>\n"
            ],
            "application/vnd.google.colaboratory.intrinsic+json": {
              "type": "dataframe",
              "variable_name": "df",
              "summary": "{\n  \"name\": \"df\",\n  \"rows\": 1000,\n  \"fields\": [\n    {\n      \"column\": \"id\",\n      \"properties\": {\n        \"dtype\": \"Int64\",\n        \"samples\": [\n          \"20768861\",\n          \"20593383\",\n          \"20711698\"\n        ],\n        \"num_unique_values\": 1000,\n        \"semantic_type\": \"\",\n        \"description\": \"\"\n      }\n    },\n    {\n      \"column\": \"title\",\n      \"properties\": {\n        \"dtype\": \"string\",\n        \"samples\": [\n          \"iOS how can I dump multiple properties of an object into a dictionary using a predicate or KVC?\",\n          \"How to cancel() timer after opening the Activity for the second time?\",\n          \"How to connect to Oracle 11g database using Slick via Play 2/TypeSafe Activator?\"\n        ],\n        \"num_unique_values\": 1000,\n        \"semantic_type\": \"\",\n        \"description\": \"\"\n      }\n    }\n  ]\n}"
            }
          },
          "metadata": {},
          "execution_count": 9
        }
      ],
      "source": [
        "# load the BQ Table into a Pandas Dataframe\n",
        "import pandas as pd\n",
        "from google.cloud import bigquery\n",
        "\n",
        "QUESTIONS_SIZE = 1000\n",
        "\n",
        "bq_client = bigquery.Client(project=PROJECT_ID)\n",
        "QUERY_TEMPLATE = \"\"\"\n",
        "        SELECT distinct q.id, q.title\n",
        "        FROM (SELECT * FROM `bigquery-public-data.stackoverflow.posts_questions`\n",
        "        where Score > 0 ORDER BY View_Count desc) AS q\n",
        "        LIMIT {limit} ;\n",
        "        \"\"\"\n",
        "query = QUERY_TEMPLATE.format(limit=QUESTIONS_SIZE)\n",
        "query_job = bq_client.query(query)\n",
        "rows = query_job.result()\n",
        "df = rows.to_dataframe()\n",
        "\n",
        "# examine the data\n",
        "df.head()"
      ]
    },
    {
      "cell_type": "markdown",
      "metadata": {
        "id": "j6022U1FWzpb"
      },
      "source": [
        "### Call the API to generate embeddings\n",
        "\n",
        "With the Stack Overflow dataset, we will use the `title` column (the question title) and generate embedding for it with Embeddings for Text API. The API is available under the [vertexai](https://cloud.google.com/python/docs/reference/aiplatform/latest/vertexai) package of the SDK.\n",
        "\n",
        "You may see some warning messages from the TensorFlow library but you can ignore them."
      ]
    },
    {
      "cell_type": "code",
      "execution_count": 10,
      "metadata": {
        "id": "pY8M4DqO8wGx"
      },
      "outputs": [],
      "source": [
        "# init the vertexai package\n",
        "import vertexai\n",
        "\n",
        "vertexai.init(project=PROJECT_ID, location=LOCATION)"
      ]
    },
    {
      "cell_type": "markdown",
      "metadata": {
        "id": "jrG82n-y-EC5"
      },
      "source": [
        "From the package, import [TextEmbeddingModel](https://cloud.google.com/python/docs/reference/aiplatform/latest/vertexai.language_models.TextEmbeddingModel) and get a model."
      ]
    },
    {
      "cell_type": "code",
      "execution_count": 11,
      "metadata": {
        "id": "YVLHjSeOGoTu"
      },
      "outputs": [],
      "source": [
        "# Load the text embeddings model\n",
        "from vertexai.preview.language_models import TextEmbeddingModel\n",
        "\n",
        "model = TextEmbeddingModel.from_pretrained(\"textembedding-gecko@001\")"
      ]
    },
    {
      "cell_type": "markdown",
      "metadata": {
        "id": "FqdVsgZDb_hc"
      },
      "source": [
        "In this tutorial we will use `textembedding-gecko@001` model for getting text embeddings. Please take a look at [Supported models](https://cloud.google.com/vertex-ai/docs/generative-ai/embeddings/get-text-embeddings#supported_models) on the doc to see the list of supported models.\n",
        "\n",
        "Once you get the model, you can call its [get_embeddings](https://cloud.google.com/python/docs/reference/aiplatform/latest/vertexai.language_models.TextEmbeddingModel#vertexai_language_models_TextEmbeddingModel_get_embeddings) function to get embeddings. You can pass up to 5 texts at once in a call. But there is a caveat. By default, the text embeddings API has a \"request per minute\" quota set to 60 for new Cloud projects and 600 for projects with usage history (see [Quotas and limits](https://cloud.google.com/vertex-ai/docs/quotas#request_quotas) to check the latest quota value for `base_model:textembedding-gecko`). So, rather than using the function directly, you may want to define a wrapper like below to limit under 10 calls per second, and pass 5 texts each time."
      ]
    },
    {
      "cell_type": "code",
      "execution_count": 12,
      "metadata": {
        "id": "8HUb9u_P2VWW"
      },
      "outputs": [],
      "source": [
        "import time\n",
        "import tqdm  # to show a progress bar\n",
        "\n",
        "# get embeddings for a list of texts\n",
        "BATCH_SIZE = 5\n",
        "\n",
        "\n",
        "def get_embeddings_wrapper(texts):\n",
        "    embs = []\n",
        "    for i in tqdm.tqdm(range(0, len(texts), BATCH_SIZE)):\n",
        "        time.sleep(1)  # to avoid the quota error\n",
        "        result = model.get_embeddings(texts[i : i + BATCH_SIZE])\n",
        "        embs = embs + [e.values for e in result]\n",
        "    return embs"
      ]
    },
    {
      "cell_type": "markdown",
      "metadata": {
        "id": "aK4eTSPfcEuh"
      },
      "source": [
        "The following code will get embedding for the question titles and add them as a new column `embedding` to the DataFrame. This will take a few minutes."
      ]
    },
    {
      "cell_type": "code",
      "execution_count": 13,
      "metadata": {
        "id": "FcqPvu4PluN1",
        "outputId": "bebe6ee4-98fc-4fda-ded3-88868e832e9d",
        "colab": {
          "base_uri": "https://localhost:8080/",
          "height": 224
        }
      },
      "outputs": [
        {
          "output_type": "stream",
          "name": "stderr",
          "text": [
            "100%|██████████| 200/200 [03:48<00:00,  1.14s/it]\n"
          ]
        },
        {
          "output_type": "execute_result",
          "data": {
            "text/plain": [
              "         id                                              title  \\\n",
              "0  20872601              Eclipse kepler create a feature patch   \n",
              "1  20594683  Android: status bar notifications in specific ...   \n",
              "2  20850493  How to create and save specific photo album us...   \n",
              "3  20656731  How to highlight the selected item of long lis...   \n",
              "4  20684988   Servicemix does not find javax.validation bundle   \n",
              "\n",
              "                                           embedding  \n",
              "0  [-0.01669927127659321, 0.006342935375869274, -...  \n",
              "1  [-0.030962614342570305, 0.02981439046561718, 0...  \n",
              "2  [-0.012937060557305813, 0.006394754163920879, ...  \n",
              "3  [0.016026116907596588, -0.003978523891419172, ...  \n",
              "4  [-0.01587827317416668, 0.006503724493086338, -...  "
            ],
            "text/html": [
              "\n",
              "  <div id=\"df-75167ee5-b592-426e-bc38-1692abba6260\" class=\"colab-df-container\">\n",
              "    <div>\n",
              "<style scoped>\n",
              "    .dataframe tbody tr th:only-of-type {\n",
              "        vertical-align: middle;\n",
              "    }\n",
              "\n",
              "    .dataframe tbody tr th {\n",
              "        vertical-align: top;\n",
              "    }\n",
              "\n",
              "    .dataframe thead th {\n",
              "        text-align: right;\n",
              "    }\n",
              "</style>\n",
              "<table border=\"1\" class=\"dataframe\">\n",
              "  <thead>\n",
              "    <tr style=\"text-align: right;\">\n",
              "      <th></th>\n",
              "      <th>id</th>\n",
              "      <th>title</th>\n",
              "      <th>embedding</th>\n",
              "    </tr>\n",
              "  </thead>\n",
              "  <tbody>\n",
              "    <tr>\n",
              "      <th>0</th>\n",
              "      <td>20872601</td>\n",
              "      <td>Eclipse kepler create a feature patch</td>\n",
              "      <td>[-0.01669927127659321, 0.006342935375869274, -...</td>\n",
              "    </tr>\n",
              "    <tr>\n",
              "      <th>1</th>\n",
              "      <td>20594683</td>\n",
              "      <td>Android: status bar notifications in specific ...</td>\n",
              "      <td>[-0.030962614342570305, 0.02981439046561718, 0...</td>\n",
              "    </tr>\n",
              "    <tr>\n",
              "      <th>2</th>\n",
              "      <td>20850493</td>\n",
              "      <td>How to create and save specific photo album us...</td>\n",
              "      <td>[-0.012937060557305813, 0.006394754163920879, ...</td>\n",
              "    </tr>\n",
              "    <tr>\n",
              "      <th>3</th>\n",
              "      <td>20656731</td>\n",
              "      <td>How to highlight the selected item of long lis...</td>\n",
              "      <td>[0.016026116907596588, -0.003978523891419172, ...</td>\n",
              "    </tr>\n",
              "    <tr>\n",
              "      <th>4</th>\n",
              "      <td>20684988</td>\n",
              "      <td>Servicemix does not find javax.validation bundle</td>\n",
              "      <td>[-0.01587827317416668, 0.006503724493086338, -...</td>\n",
              "    </tr>\n",
              "  </tbody>\n",
              "</table>\n",
              "</div>\n",
              "    <div class=\"colab-df-buttons\">\n",
              "\n",
              "  <div class=\"colab-df-container\">\n",
              "    <button class=\"colab-df-convert\" onclick=\"convertToInteractive('df-75167ee5-b592-426e-bc38-1692abba6260')\"\n",
              "            title=\"Convert this dataframe to an interactive table.\"\n",
              "            style=\"display:none;\">\n",
              "\n",
              "  <svg xmlns=\"http://www.w3.org/2000/svg\" height=\"24px\" viewBox=\"0 -960 960 960\">\n",
              "    <path d=\"M120-120v-720h720v720H120Zm60-500h600v-160H180v160Zm220 220h160v-160H400v160Zm0 220h160v-160H400v160ZM180-400h160v-160H180v160Zm440 0h160v-160H620v160ZM180-180h160v-160H180v160Zm440 0h160v-160H620v160Z\"/>\n",
              "  </svg>\n",
              "    </button>\n",
              "\n",
              "  <style>\n",
              "    .colab-df-container {\n",
              "      display:flex;\n",
              "      gap: 12px;\n",
              "    }\n",
              "\n",
              "    .colab-df-convert {\n",
              "      background-color: #E8F0FE;\n",
              "      border: none;\n",
              "      border-radius: 50%;\n",
              "      cursor: pointer;\n",
              "      display: none;\n",
              "      fill: #1967D2;\n",
              "      height: 32px;\n",
              "      padding: 0 0 0 0;\n",
              "      width: 32px;\n",
              "    }\n",
              "\n",
              "    .colab-df-convert:hover {\n",
              "      background-color: #E2EBFA;\n",
              "      box-shadow: 0px 1px 2px rgba(60, 64, 67, 0.3), 0px 1px 3px 1px rgba(60, 64, 67, 0.15);\n",
              "      fill: #174EA6;\n",
              "    }\n",
              "\n",
              "    .colab-df-buttons div {\n",
              "      margin-bottom: 4px;\n",
              "    }\n",
              "\n",
              "    [theme=dark] .colab-df-convert {\n",
              "      background-color: #3B4455;\n",
              "      fill: #D2E3FC;\n",
              "    }\n",
              "\n",
              "    [theme=dark] .colab-df-convert:hover {\n",
              "      background-color: #434B5C;\n",
              "      box-shadow: 0px 1px 3px 1px rgba(0, 0, 0, 0.15);\n",
              "      filter: drop-shadow(0px 1px 2px rgba(0, 0, 0, 0.3));\n",
              "      fill: #FFFFFF;\n",
              "    }\n",
              "  </style>\n",
              "\n",
              "    <script>\n",
              "      const buttonEl =\n",
              "        document.querySelector('#df-75167ee5-b592-426e-bc38-1692abba6260 button.colab-df-convert');\n",
              "      buttonEl.style.display =\n",
              "        google.colab.kernel.accessAllowed ? 'block' : 'none';\n",
              "\n",
              "      async function convertToInteractive(key) {\n",
              "        const element = document.querySelector('#df-75167ee5-b592-426e-bc38-1692abba6260');\n",
              "        const dataTable =\n",
              "          await google.colab.kernel.invokeFunction('convertToInteractive',\n",
              "                                                    [key], {});\n",
              "        if (!dataTable) return;\n",
              "\n",
              "        const docLinkHtml = 'Like what you see? Visit the ' +\n",
              "          '<a target=\"_blank\" href=https://colab.research.google.com/notebooks/data_table.ipynb>data table notebook</a>'\n",
              "          + ' to learn more about interactive tables.';\n",
              "        element.innerHTML = '';\n",
              "        dataTable['output_type'] = 'display_data';\n",
              "        await google.colab.output.renderOutput(dataTable, element);\n",
              "        const docLink = document.createElement('div');\n",
              "        docLink.innerHTML = docLinkHtml;\n",
              "        element.appendChild(docLink);\n",
              "      }\n",
              "    </script>\n",
              "  </div>\n",
              "\n",
              "\n",
              "<div id=\"df-30e51955-fa42-429b-a7d9-5e21cb369683\">\n",
              "  <button class=\"colab-df-quickchart\" onclick=\"quickchart('df-30e51955-fa42-429b-a7d9-5e21cb369683')\"\n",
              "            title=\"Suggest charts\"\n",
              "            style=\"display:none;\">\n",
              "\n",
              "<svg xmlns=\"http://www.w3.org/2000/svg\" height=\"24px\"viewBox=\"0 0 24 24\"\n",
              "     width=\"24px\">\n",
              "    <g>\n",
              "        <path d=\"M19 3H5c-1.1 0-2 .9-2 2v14c0 1.1.9 2 2 2h14c1.1 0 2-.9 2-2V5c0-1.1-.9-2-2-2zM9 17H7v-7h2v7zm4 0h-2V7h2v10zm4 0h-2v-4h2v4z\"/>\n",
              "    </g>\n",
              "</svg>\n",
              "  </button>\n",
              "\n",
              "<style>\n",
              "  .colab-df-quickchart {\n",
              "      --bg-color: #E8F0FE;\n",
              "      --fill-color: #1967D2;\n",
              "      --hover-bg-color: #E2EBFA;\n",
              "      --hover-fill-color: #174EA6;\n",
              "      --disabled-fill-color: #AAA;\n",
              "      --disabled-bg-color: #DDD;\n",
              "  }\n",
              "\n",
              "  [theme=dark] .colab-df-quickchart {\n",
              "      --bg-color: #3B4455;\n",
              "      --fill-color: #D2E3FC;\n",
              "      --hover-bg-color: #434B5C;\n",
              "      --hover-fill-color: #FFFFFF;\n",
              "      --disabled-bg-color: #3B4455;\n",
              "      --disabled-fill-color: #666;\n",
              "  }\n",
              "\n",
              "  .colab-df-quickchart {\n",
              "    background-color: var(--bg-color);\n",
              "    border: none;\n",
              "    border-radius: 50%;\n",
              "    cursor: pointer;\n",
              "    display: none;\n",
              "    fill: var(--fill-color);\n",
              "    height: 32px;\n",
              "    padding: 0;\n",
              "    width: 32px;\n",
              "  }\n",
              "\n",
              "  .colab-df-quickchart:hover {\n",
              "    background-color: var(--hover-bg-color);\n",
              "    box-shadow: 0 1px 2px rgba(60, 64, 67, 0.3), 0 1px 3px 1px rgba(60, 64, 67, 0.15);\n",
              "    fill: var(--button-hover-fill-color);\n",
              "  }\n",
              "\n",
              "  .colab-df-quickchart-complete:disabled,\n",
              "  .colab-df-quickchart-complete:disabled:hover {\n",
              "    background-color: var(--disabled-bg-color);\n",
              "    fill: var(--disabled-fill-color);\n",
              "    box-shadow: none;\n",
              "  }\n",
              "\n",
              "  .colab-df-spinner {\n",
              "    border: 2px solid var(--fill-color);\n",
              "    border-color: transparent;\n",
              "    border-bottom-color: var(--fill-color);\n",
              "    animation:\n",
              "      spin 1s steps(1) infinite;\n",
              "  }\n",
              "\n",
              "  @keyframes spin {\n",
              "    0% {\n",
              "      border-color: transparent;\n",
              "      border-bottom-color: var(--fill-color);\n",
              "      border-left-color: var(--fill-color);\n",
              "    }\n",
              "    20% {\n",
              "      border-color: transparent;\n",
              "      border-left-color: var(--fill-color);\n",
              "      border-top-color: var(--fill-color);\n",
              "    }\n",
              "    30% {\n",
              "      border-color: transparent;\n",
              "      border-left-color: var(--fill-color);\n",
              "      border-top-color: var(--fill-color);\n",
              "      border-right-color: var(--fill-color);\n",
              "    }\n",
              "    40% {\n",
              "      border-color: transparent;\n",
              "      border-right-color: var(--fill-color);\n",
              "      border-top-color: var(--fill-color);\n",
              "    }\n",
              "    60% {\n",
              "      border-color: transparent;\n",
              "      border-right-color: var(--fill-color);\n",
              "    }\n",
              "    80% {\n",
              "      border-color: transparent;\n",
              "      border-right-color: var(--fill-color);\n",
              "      border-bottom-color: var(--fill-color);\n",
              "    }\n",
              "    90% {\n",
              "      border-color: transparent;\n",
              "      border-bottom-color: var(--fill-color);\n",
              "    }\n",
              "  }\n",
              "</style>\n",
              "\n",
              "  <script>\n",
              "    async function quickchart(key) {\n",
              "      const quickchartButtonEl =\n",
              "        document.querySelector('#' + key + ' button');\n",
              "      quickchartButtonEl.disabled = true;  // To prevent multiple clicks.\n",
              "      quickchartButtonEl.classList.add('colab-df-spinner');\n",
              "      try {\n",
              "        const charts = await google.colab.kernel.invokeFunction(\n",
              "            'suggestCharts', [key], {});\n",
              "      } catch (error) {\n",
              "        console.error('Error during call to suggestCharts:', error);\n",
              "      }\n",
              "      quickchartButtonEl.classList.remove('colab-df-spinner');\n",
              "      quickchartButtonEl.classList.add('colab-df-quickchart-complete');\n",
              "    }\n",
              "    (() => {\n",
              "      let quickchartButtonEl =\n",
              "        document.querySelector('#df-30e51955-fa42-429b-a7d9-5e21cb369683 button');\n",
              "      quickchartButtonEl.style.display =\n",
              "        google.colab.kernel.accessAllowed ? 'block' : 'none';\n",
              "    })();\n",
              "  </script>\n",
              "</div>\n",
              "    </div>\n",
              "  </div>\n"
            ],
            "application/vnd.google.colaboratory.intrinsic+json": {
              "type": "dataframe",
              "variable_name": "df",
              "repr_error": "unhashable type: 'list'"
            }
          },
          "metadata": {},
          "execution_count": 13
        }
      ],
      "source": [
        "# get embeddings for the question titles and add them as \"embedding\" column\n",
        "df = df.assign(embedding=get_embeddings_wrapper(list(df.title)))\n",
        "df.head()"
      ]
    },
    {
      "cell_type": "markdown",
      "metadata": {
        "id": "nB53SiJjVN6e"
      },
      "source": [
        "## Look at the embedding similarities\n",
        "\n",
        "Let's see how these embeddings are organized in the embedding space with their meanings by quickly calculating the similarities between them and sorting them.\n",
        "\n",
        "As embeddings are vectors, you can calculate similarity between two embeddings by using one of the popular metrics like the followings:\n",
        "\n",
        "![](https://storage.googleapis.com/github-repo/img/embeddings/textemb-vs-notebook/8.png)\n",
        "\n",
        "Which metric should we use? Usually it depends on how each model is trained. In case of the model `textembedding-gecko@001`, we need to use inner product (dot product).\n",
        "\n",
        "In the following code, it picks up one question randomly and uses the numpy `np.dot` function to calculate the similarities between the question and other questions."
      ]
    },
    {
      "cell_type": "code",
      "execution_count": 14,
      "metadata": {
        "id": "lKs6jSu7NiM6",
        "outputId": "4e2821c4-317b-4dd3-dd73-85b3303ba6d4",
        "colab": {
          "base_uri": "https://localhost:8080/"
        }
      },
      "outputs": [
        {
          "output_type": "execute_result",
          "data": {
            "text/plain": [
              "array([0.55846575, 0.51097833, 0.44303418, 0.4930013 , 0.48738625])"
            ]
          },
          "metadata": {},
          "execution_count": 14
        }
      ],
      "source": [
        "import random\n",
        "import numpy as np\n",
        "\n",
        "# pick one of them as a key question\n",
        "key = random.randint(0, len(df))\n",
        "\n",
        "# calc dot product between the key and other questions\n",
        "embs = np.array(df.embedding.to_list())\n",
        "similarities = np.dot(embs[key], embs.T)\n",
        "\n",
        "# print similarities for the first 5 questions\n",
        "similarities[:5]"
      ]
    },
    {
      "cell_type": "markdown",
      "metadata": {
        "id": "srM04lJBQp4w"
      },
      "source": [
        "Finally, sort the questions with the similarities and print the list."
      ]
    },
    {
      "cell_type": "code",
      "execution_count": 15,
      "metadata": {
        "id": "lTUVvj9FQlab",
        "outputId": "eeacee5a-1b6e-43a6-f80e-b858e46a6ff5",
        "colab": {
          "base_uri": "https://localhost:8080/"
        }
      },
      "outputs": [
        {
          "output_type": "stream",
          "name": "stdout",
          "text": [
            "Key question: Elasticsearch or Lucene\n",
            "\n",
            "1.0000 Elasticsearch or Lucene\n",
            "0.6941 Google-Plus Crawler\n",
            "0.6877 Union analyzer for Solr\n",
            "0.6616 Sitecore Maxmind lookup task\n",
            "0.6615 Elasticsearch \"getaddrinfo: Name or service not known (SocketError)\"\n",
            "0.6563 NGINX - url rewrite regular expression\n",
            "0.6521 Seek in buffered reader\n",
            "0.6449 Testing whether a Lucene Query matches all the documents\n",
            "0.6413 Hadoop MapReduce Streaming sorting on multiple columns\n",
            "0.6317 Writing a SPARQL query with Jena, FILTER and REGEX\n",
            "0.6245 Distributed cache key generator\n",
            "0.6203 Cassandra driver for nodejs Helenus\n",
            "0.6193 Node.js event proxy\n",
            "0.6142 ZMQ sockets with custom load-balancing\n",
            "0.6121 MYSQL JOIN - range\n",
            "0.6112 How to aware of Solr cloud state change\n",
            "0.6103 Find records with MAX value in each\n",
            "0.6091 Google .NET APIs - any other DataStore other than the FileDataStore?\n",
            "0.6090 SQL Identify related rows (Hierarchal)\n",
            "0.6084 YQL query for stock price\n"
          ]
        }
      ],
      "source": [
        "# print the question\n",
        "print(f\"Key question: {df.title[key]}\\n\")\n",
        "\n",
        "# sort and print the questions by similarities\n",
        "sorted_questions = sorted(\n",
        "    zip(df.title, similarities), key=lambda x: x[1], reverse=True\n",
        ")[:20]\n",
        "for i, (question, similarity) in enumerate(sorted_questions):\n",
        "    print(f\"{similarity:.4f} {question}\")"
      ]
    },
    {
      "cell_type": "markdown",
      "metadata": {
        "id": "S75SQzAg1wHV"
      },
      "source": [
        "# Find embeddings fast with Vertex AI Vector Search\n",
        "\n",
        "As we have explained above, you can find similar embeddings by calculating the distance or similarity between the embeddings.\n",
        "\n",
        "But this isn't easy when you have millions or billions of embeddings. For example, if you have 1 million embeddings with 768 dimensions, you need to repeat the distance calculations for 1 million x 768 times. This would take some seconds - too slow."
      ]
    },
    {
      "cell_type": "markdown",
      "metadata": {
        "id": "0sjhTy-a47YH"
      },
      "source": [
        "So the researchers have been studying a technique called [Approximate Nearest Neighbor (ANN)](https://en.wikipedia.org/wiki/Nearest_neighbor_search) for faster search. ANN uses \"vector quantization\" for separating the space into multiple spaces with a tree structure. This is similar to the index in relational databases for improving the query performance, enabling very fast and scalable search with billions of embeddings.\n",
        "\n",
        "With the rise of LLMs, the ANN is getting popular quite rapidly, known as the Vector Search technology.\n",
        "\n",
        "![](https://storage.googleapis.com/gweb-cloudblog-publish/images/7._ANN.1143068821171228.max-2200x2200.png)\n",
        "\n",
        "In 2020, Google Research published a new ANN algorithm called [ScaNN](https://ai.googleblog.com/2020/07/announcing-scann-efficient-vector.html). It is considered one of the best ANN algorithms in the industry, also the most important foundation for search and recommendation in major Google services such as Google Search, YouTube and many others.\n"
      ]
    },
    {
      "cell_type": "markdown",
      "metadata": {
        "id": "xVOL8BgM2isz"
      },
      "source": [
        "## What is Vertex AI Vector Search?\n",
        "\n",
        "Google Cloud developers can take the full advantage of Google's vector search technology with [Vertex AI Vector Search](https://cloud.google.com/vertex-ai/docs/vector-search/overview) (previously called Matching Engine). With this fully managed service, developers can just add the embeddings to its index and issue a search query with a key embedding for the blazingly fast vector search. In the case of the Stack Overflow demo, Vector Search can find relevant questions from 8 million embeddings in tens of milliseconds.\n",
        "\n",
        "![](https://storage.googleapis.com/github-repo/img/embeddings/textemb-vs-notebook/9.png)\n",
        "\n",
        "With Vector Search, you don't need to spend much time and money building your own vector search service from scratch or using open source tools if your goal is high scalability, availability and maintainability for production systems."
      ]
    },
    {
      "cell_type": "markdown",
      "metadata": {
        "id": "uBt8tjidSzyU"
      },
      "source": [
        "## Get Started with Vector Search\n",
        "\n",
        "When you already have the embeddings, then getting started with Vector Search is pretty easy. In this section, we will follow the steps below.\n",
        "\n",
        "### Setting up Vector Search\n",
        "- Save the embeddings in JSON files on Cloud Storage\n",
        "- Build an Index\n",
        "- Create an Index Endpoint\n",
        "- Deploy the Index to the endpoint\n",
        "\n",
        "### Use Vector Search\n",
        "\n",
        "- Query with the endpoint\n",
        "\n",
        "### **Tip for Colab users**\n",
        "\n",
        "If you use Colab for this tutorial, you may lose your runtime while you are waiting for the Index building and deployment in the later sections as it takes tens of minutes. In that case, run the following sections again with the new instance to recover the runtime: [Install Python SDK, Environment variables and Authentication](https://colab.research.google.com/drive/1xJhLFEyPqW0qvKiERD6aYgeTHa6_U50N?resourcekey=0-2qUkxckCjt6W03AsqvZHhw#scrollTo=AtXnXhF8U-8R&line=9&uniqifier=1).\n",
        "\n",
        "Then, use the [Utilities](https://colab.research.google.com/drive/1xJhLFEyPqW0qvKiERD6aYgeTHa6_U50N?resourcekey=0-2qUkxckCjt6W03AsqvZHhw#scrollTo=BE1tELsH-u8N&line=1&uniqifier=1) to recover the Index and Index Endpoint and continute with the rest."
      ]
    },
    {
      "cell_type": "markdown",
      "metadata": {
        "id": "6pu1a3zjfQ0D"
      },
      "source": [
        "### Save the embeddings in a JSON file\n",
        "To load the embeddings to Vector Search, we need to save them in JSON files with JSONL format. See more information in the docs at [Input data format and structure](https://cloud.google.com/vertex-ai/docs/matching-engine/match-eng-setup/format-structure#data-file-formats).\n",
        "\n",
        "First, export the `id` and `embedding` columns from the DataFrame in JSONL format, and save it."
      ]
    },
    {
      "cell_type": "code",
      "execution_count": 16,
      "metadata": {
        "id": "GzZ30d4j_uLU",
        "outputId": "fdcea875-fedf-42cc-f1e8-c17f21d0eb7e",
        "colab": {
          "base_uri": "https://localhost:8080/"
        }
      },
      "outputs": [
        {
          "output_type": "stream",
          "name": "stdout",
          "text": [
            "{\"id\":20872601,\"embedding\":[-0.0166992713,0.0063429354,-0.0450041443,0.0208666846,0.061497733,-0.0396268331,-0.0032691676,0.0481460467,-0.0088242469,0.0036560933,0.05881951,-0.0366694592,0.0300235543,0.0174490139,-0.0137221934,-0.0081484998,-0.0423303507,0.0118305637,-0.0221061241,-0.0048994175,-0.019287657,-0.0148932245,-0.0158298444,0.0082747843,0.0177126601,-0.0125789093,0.0233412683,-0.0362608097,-0.0347715504,-0.0244072452,-0.0313583463,0.0422801785,-0.0289222915,-0.015838027,0.0023192584,0.0285038073,0.0121159293,0.0257230271,0.0193444192,0.0157350563,-0.0170751773,0.0078222351,0.001716026,0.0252434853,-0.0208423939,-0.0071447366,-0.0541462228,0.0309156273,-0.0159688387,-0.0208863784,0.0217523929,-0.0247508697,0.028958369,-0.0183042195,0.0584114306,0.0059025171,-0.0159847382,0.0173267778,-0.0102435276,-0.04759771,-0.0163868982,0.0100911064,0.0261351485,-0.0122905103,0.0058345585,0.0655323192,-0.0030227234,-0.0617107749,-0.0503241718,-0.0013828034,0.0290520471,-0.0103041409,0.025767846,-0.0447925739,0.0406039245,-0.0030184968,0.0432065763,-0.0344004445,0.0905553401,-0.0427335724,-0.0236512739,-0.0589042269,-0.0138597423,-0.0900042132,0.0081232227,0.0591124594,0.0250382014,0.0228431225,-0.0288499445,0.0447315387,0.0151895173,0.0383828469,0.0024450088,0.0182282589,0.0191455428,-0.0010274345,-0.0334723294,-0.012004449,0.0219938755,0.0162959136,0.0598295331,-0.0196848754,0.0501302183,-0.0133061754,0.0432543382,-0.0153616201,-0.0297716148,0.0087136487,-0.056109678,-0.088303484,-0.0422646701,0.0069734696,-0.0442442894,0.0471530445,-0.0082299802,0.0232075509,-0.0075684311,-0.0093253898,0.0761021972,-0.002824716,-0.0346260183,0.0333266445,0.0556604192,0.0840729773,0.0702785999,0.0018744107,0.0662461668,0.0204660185,0.0156920608,-0.0122057311,0.029252328,0.0115620065,0.0217556711,-0.0009976106,0.0003728114,0.0277499259,-0.0136100017,-0.0299333651,0.0409054346,-0.0094346292,-0.0289429389,0.0358262919,-0.0621927977,-0.0123169627,-0.0094597843,0.0171691738,-0.0110966973,-0.0330248475,-0.0375559404,-0.0286266543,0.0072834417,-0.0300028976,-0.0209735651,0.0275581628,0.0228365045,0.0748952851,0.0345561765,0.0453918315,-0.0114630954,-0.036765188,0.0137464963,0.0301504731,-0.023406107,0.0396295041,0.0630289763,0.010319232,0.0210652482,-0.0108182067,-0.0091272555,-0.015845377,0.0436607227,-0.1404885203,-0.0000429037,-0.003638621,0.0503115878,-0.0061720074,-0.0188924987,0.0213285647,0.0437691323,-0.0082992343,-0.056740731,-0.0951719955,0.0213058256,-0.0547714978,-0.0320405886,-0.0001905698,0.0053050541,0.0019482503,-0.0240918212,0.0719201341,-0.0268091895,-0.0030282843,0.0178405158,-0.0643063113,-0.0463881753,-0.0000716322,0.0453515351,-0.1346808821,0.0174185745,0.017775856,-0.0002600591,-0.0527219214,-0.0008709016,0.0015662014,0.0012345209,-0.0068646665,-0.0632674173,0.0082468111,-0.0024341124,0.0594476312,0.0004559687,0.0215972345,0.0662546009,-0.0018956708,0.0216779541,-0.0353114754,0.0173239876,-0.0755373761,-0.0551189333,0.0136271911,-0.0405285731,0.0206892453,0.0234692674,-0.0149325822,0.0559121035,0.0280043148,0.0220263992,0.0321698748,0.0428704172,0.0033211424,-0.0015808042,0.0115104606,-0.0329878777,0.0529001988,-0.0550176315,-0.0134977037,0.0216271523,0.0538699627,-0.0724895373,0.0175919551,0.0298502091,0.0385713167,0.0121399127,0.015265679,-0.0199967641,0.0225155763,-0.000257314,0.0172174685,0.0008685093,-0.0452240147,0.0549677089,-0.0700737312,-0.0087186955,0.014988564,0.0346621089,0.0141960774,0.0205037519,0.0882819146,-0.0502950288,0.0132073946,-0.0026166399,0.0393403731,-0.013363054,0.1206166297,-0.0056130677,-0.0235778987,0.0065776384,-0.0240932126,0.0599450022,0.0084398538,0.0181298107,-0.0646189973,0.0159572493,0.0443902425,0.0112361424,0.000231506,0.0122283734,0.0572574101,-0.0126502514,0.0599621944,0.0044163968,-0.0271697026,-0.0136544155,0.0306783952,-0.0073663895,0.0643351004,0.0010052398,-0.0028569221,-0.0926182047,-0.0130144181,-0.0246035494,0.0056703179,-0.005228356,0.0029613045,0.0103023816,-0.01734755,0.0586472638,0.0369362943,-0.0258014388,0.0151131647,-0.0094946316,0.0019124917,-0.0028342297,-0.0007113419,-0.0484417379,-0.0271505155,0.017206518,0.0240934752,0.0367553271,0.033730872,-0.0219465178,-0.033803653,0.0277564246,0.0138780642,-0.059919253,0.0174030978,0.0187058989,-0.0228037797,-0.0218660031,0.0212933458,-0.0399508439,-0.0157225579,0.0450038724,0.0233963523,-0.011828173,-0.0068860129,-0.0082551865,-0.0297443923,0.0098035187,-0.0277983807,-0.039739918,0.05133247,-0.0212329887,0.0047500427,0.0452169217,0.0143628046,-0.0028453849,-0.0029261694,-0.0264097247,-0.0382238217,0.0439518839,-0.0298505817,-0.0331771746,0.0032225584,-0.0158851966,0.0059531787,-0.0405895673,-0.0043775197,-0.0046868464,-0.0304747,-0.0154620679,0.0097483639,-0.0371228121,0.0370585397,0.0295140687,-0.0275415089,-0.0405958295,0.0362587683,0.0037898771,-0.0000405135,-0.0688230172,-0.0437007509,-0.046754498,-0.0283604786,0.0301759094,0.0131868478,-0.0272374488,0.0401882082,0.0240177792,-0.0060494696,-0.0455681495,0.009405504,0.0425629765,-0.0323024243,-0.0415548645,-0.0175529886,0.0053829234,0.0072936597,-0.0315508284,0.0267067645,-0.0061360025,-0.0209499449,-0.006224615,0.0108348941,-0.0375298187,0.0503139533,0.018219538,0.0020612585,0.0167545173,-0.0126498882,0.0158345848,0.0514992476,-0.0074076862,-0.0008238146,-0.0094800489,0.0738119856,-0.0661492944,-0.0124889724,0.0113690151,0.0042027053,0.015722191,0.0122619914,-0.0655581504,-0.1094741076,0.0121353036,-0.0133090653,0.0336160623,0.0184399653,0.0117645627,-0.070995979,-0.0094144037,0.0133133382,-0.0016347668,0.0363073945,0.0595914386,-0.0203003921,0.0252873413,-0.0406469442,-0.0096832281,0.0461067669,0.0148083903,-0.0311978143,-0.000414755,0.0018221006,-0.0349683464,0.0125831394,-0.0130188093,0.0357463919,-0.013398,-0.0425698496,-0.0188900046,0.0350243971,0.0207271148,-0.0257629622,-0.0407024808,-0.0389254466,0.0650708824,0.0161299687,0.0401539728,0.0183295514,-0.0248780809,-0.0044078655,-0.0060669966,0.0325196087,-0.0212443732,-0.0352540687,-0.0034326871,-0.0650677755,-0.0087539079,0.0134901935,-0.0502609797,0.0049343067,0.0007763992,0.1390665621,-0.0466233864,-0.0165098216,0.0063612652,-0.0018547826,-0.0196523499,0.0390315242,-0.0214649569,-0.05299161,-0.0128888153,0.0592857711,-0.0187061802,0.0212750491,-0.0021968619,0.0397024937,-0.0241283141,0.0951972902,-0.0295409411,0.049355492,-0.0475111268,-0.0045105382,0.0507479347,-0.0007711748,0.0493046604,0.0369048566,-0.0328952633,-0.0019678776,-0.0302426219,-0.0087402314,-0.061675828,-0.0194665343,0.0694106966,0.0291923638,-0.0124597959,0.0161115006,-0.0310252737,0.0664932504,0.0529457889,-0.0177583713,0.0492933504,-0.0147252753,-0.040913742,0.0159528088,-0.0282350723,0.0210699197,0.0094062677,0.0159634165,0.0087538455,-0.0179047771,0.0554969758,-0.0487821847,-0.072457768,0.0003566105,0.0015757267,-0.03180971,-0.0549903587,0.0227682814,0.0299856439,0.0548781119,0.0006732255,-0.0120920893,-0.0511571318,-0.0132964877,-0.0408120193,0.0370636731,0.0600982159,-0.0143452752,0.0097626513,-0.0033121055,0.0116898352,0.0131455241,0.0780623332,0.057197772,0.0203771498,-0.0356030241,-0.0638393685,0.0222267583,-0.0394371003,-0.0002246715,0.0275879819,-0.0063099531,-0.0402402394,-0.0280035473,0.0293332338,-0.0088278577,0.0288913511,0.1008169651,0.0294955447,-0.0568611622,0.0458192378,0.0276116747,0.0085881483,0.0296127144,-0.0207540859,0.0359632522,-0.0002433607,0.0387570262,0.0077811247,-0.0348456129,-0.0479814261,0.0570081882,0.0131485602,-0.0373500809,0.0157668479,-0.0277337395,-0.0484118573,0.0144290384,-0.0246374886,0.0223398209,-0.0307452139,-0.0232882295,-0.0037974077,-0.0351595581,0.0075586834,0.0372617617,-0.0127707701,0.0450621285,0.0461191423,-0.0905613005,-0.0406084247,0.0015306236,-0.0247938465,0.0277183913,-0.0140643371,0.0671470985,0.0010766513,0.0196578354,-0.0082954708,0.0377601683,-0.0051737064,-0.0213428903,-0.034562666,-0.0139100989,-0.0002180697,-0.0112636425,0.0245679244,0.0014988654,-0.026073914,-0.0828824341,0.0178638417,-0.0148614226,-0.0618951917,-0.0912203714,0.0518836007,0.0306145493,-0.0134641118,-0.0080059767,0.0015296753,0.0109580699,0.0204805918,-0.0407696515,0.0146575766,-0.0058941832,0.0155217582,-0.011369179,-0.0297499392,0.0510342456,0.0648684427,0.0183703043,0.0078631723,-0.0143847344,0.0050600613,0.01294378,-0.0215152539,0.0335629284,-0.0488379709,-0.0162769035,0.0588243306,0.0016678581,0.0032276707,-0.0725111663,-0.0072338851,-0.0143367397,0.0160041619,-0.0313415937,-0.0469709858,-0.0362571478,0.0178321451,-0.0431624316,-0.014753947,-0.0883882642,0.0208240747,-0.0870967507,0.0144690583,0.0261291116,0.0510342233,0.0533155091,0.0456886552,0.0203520115,0.0348027311,-0.0095069958,-0.0144161964,-0.004697897,-0.0374879837,-0.0486054122,-0.0143535994,0.0335235409,-0.0472039245,-0.0236475542,-0.0157334227,-0.0353688151,-0.0499783233,-0.008323851,-0.0003621413,-0.0454785228,-0.0122598987,0.0167187843,0.0619745851,0.0617034398,0.0305674877,0.0232697036,-0.1088982821,0.0610370226,-0.0433974974,-0.0086399233,0.0395572931,0.0305897892,-0.0594184659,-0.0361166261,0.0296873115,-0.0417259075,-0.0451849625,-0.0315019712,0.0209937748,0.0335312672,0.0051831636,0.012919913,-0.0594487078,-0.0390775092,0.0034248338,0.0155315027,0.0352703296,-0.0017642247,0.0102633229,-0.0009809961,0.0159794483,-0.0481397808,0.0148202265,0.0268918965,-0.0378851593,-0.0005235597,0.0381033607,-0.0094083063,-0.0194657184,-0.0179865714,0.0325624384,0.0151957413,-0.0193555895,0.0401909798,0.019323362,0.0757806748,0.0342660621,-0.0805146992,0.0024160501,-0.0057287714,-0.0310195312,-0.0299807191,0.0014189336,-0.0020495465,0.0370485894,0.0339981467,-0.0269699562,0.0048842751,-0.0782714561,0.0374790207,0.0418478325,-0.0065718293,-0.0168427303,0.0581732877,0.0572470687,-0.0297563449,-0.0454022028,-0.0224034283,0.0048318761,-0.0515430234,0.0359247476,-0.0226085261,-0.0120750014,-0.0378373861,0.0680256784,-0.0199847668,-0.022933688,-0.0106670102,0.0470544733,0.0015764167,0.0627341643,-0.0325547569,0.0016538514,0.0188963283,-0.0068168952,0.0083363922,0.0139537835,0.0029092128,-0.0331799947,-0.0505859479,0.0048737787,-0.0765741467,-0.0477539636,0.0113930544,0.008550005,-0.0019850826,-0.0323167965,0.06642396,-0.03524388,0.0646364018,-0.0383297578,0.0351133347,-0.0381705761,0.0483094491,-0.0542484373,0.0197175592,0.0552879684,-0.0057103713,-0.003037272,0.0079869321]}\n",
            "{\"id\":20594683,\"embedding\":[-0.0309626143,0.0298143905,0.0301796086,0.0589706115,-0.0177199952,-0.0358207226,-0.0024667804,0.011813486,-0.0379393362,0.0371536426,0.0389128774,0.0097704809,0.0413937308,0.0183196962,0.0052014994,0.0203178916,-0.0302796755,-0.0165035222,0.0220758636,0.0139451446,-0.0348580368,0.040490903,0.0373155251,-0.018013427,-0.0641911477,-0.0563886389,0.0061964523,-0.0485147052,-0.0150581058,-0.0010416263,-0.04276409,-0.0091562001,0.0090810945,-0.0091712885,0.0490992889,0.0447965302,0.011372474,0.0580594651,0.0433042422,0.0460178554,0.0303162783,-0.0352199897,0.0190061592,0.0002473342,-0.0132284062,-0.0168248285,-0.0618740991,-0.0019556284,-0.0009727628,-0.0339304246,-0.001904565,-0.0377971493,0.0465455651,0.0456024408,0.0168809406,0.0407660827,-0.055222284,0.0410931036,-0.0256529506,-0.0132549293,0.0348454341,0.010592185,0.0323413387,-0.0484099239,0.0327725969,0.0174183697,-0.011950613,0.0360666402,-0.0657928213,-0.0638893619,-0.0122179864,-0.0119089345,0.0208031926,-0.0046035936,0.0654740408,0.0392995812,0.0142773967,0.0202295575,0.0426098071,-0.0213391352,-0.0381344147,-0.0516196042,0.0115300417,-0.1144218594,-0.0021138242,0.0314672589,-0.0284534264,-0.0108204475,-0.0540523566,0.0578619279,-0.0594883151,0.0294325836,-0.0316031501,0.0321482643,-0.0140701355,0.0336169191,-0.0517028831,-0.0071668769,-0.009077793,-0.0340421535,-0.0414794534,0.027292937,0.0347149111,0.0000585698,0.0487462692,-0.0193331558,0.0120637827,-0.00452817,-0.0213282984,-0.1036330387,-0.0604635142,-0.0063878116,-0.0177163035,-0.0242355149,-0.0071991594,-0.0152247539,-0.0311293211,-0.0202011075,0.0124189733,0.0334642753,-0.0079048658,0.0179146659,0.0124691511,0.0692169666,0.0094176168,0.0142949251,0.0673507974,-0.0031165422,-0.050486505,-0.0453862995,0.0130330874,-0.0157958344,-0.0069872844,-0.0143023403,-0.0070722466,-0.0315214172,-0.0149576906,0.0079922695,0.0042664316,-0.053653378,-0.0720901936,0.0161453709,-0.0365039222,-0.0057928632,0.0282223728,-0.0297976471,-0.018013034,0.0126719093,-0.0760367736,0.0229100622,0.0626488179,-0.0121592181,-0.0362787247,0.0098996544,0.0519432761,0.049450919,0.0580388606,0.0228394922,-0.0434475727,-0.0597426593,0.0009019348,0.001311885,-0.0158166122,0.0301564466,0.0316357426,-0.0481153056,0.0222849045,-0.006394315,0.0428735726,0.0527996644,0.038654428,-0.0944846123,0.0333941914,0.0055044931,0.0420270413,-0.0553568155,0.0019710525,0.0396425501,0.0348752253,-0.0222777985,-0.0348398834,-0.0267568007,0.0117663629,0.0068816734,-0.089963302,0.0246979613,-0.0164280869,0.0366228968,-0.0562915765,0.0777633861,-0.0158213675,0.0182589684,0.0087204752,-0.0318012014,-0.0290369429,-0.0248811878,0.0393129885,-0.0877399668,-0.0231749061,-0.0030925889,-0.0379557759,-0.05252726,-0.0012871921,0.0005614272,0.0093382876,-0.0085834833,-0.0632325634,0.0330169126,0.0040072254,0.010619944,-0.0066889492,-0.0115750115,0.0442248918,-0.0208630729,0.0893905163,-0.0686471015,0.0259260647,-0.0613493659,-0.0704312697,-0.0039761695,0.002403056,0.0292565413,0.0069427984,0.0120654879,-0.0247990713,-0.0194215365,0.0319672041,0.0130267004,0.0524521209,0.0423165821,0.0015760234,0.0150720514,0.0016919789,-0.035680797,0.0336434171,0.0557514578,0.0182318203,0.0326180123,-0.0743381903,0.0479896888,0.0267986674,0.0803694651,-0.0063165515,0.0577446446,0.0017038309,-0.0286223553,0.003443145,0.0631292984,0.0528726429,-0.0534953251,0.0435131565,-0.0807564333,0.0225141831,0.0518717691,0.0034060087,0.0074870959,0.0088337269,0.0660941377,-0.0258210264,0.0224408768,-0.0181822125,0.038838692,-0.0004747518,0.0656982437,-0.0613693856,-0.0305572972,-0.0003787611,-0.0564198866,0.0208651125,-0.0220022034,-0.0081071593,-0.0308862198,-0.0071192253,0.0777003691,0.0098727606,0.0070930771,0.0008264994,0.0313139334,0.0052593537,0.0601476766,-0.0101239737,-0.0255427565,0.0023504018,0.0217682924,0.0077146497,0.0657651424,-0.0027211283,0.0148032,-0.0285036732,-0.044238735,-0.0112402719,0.022685729,0.0021078659,0.0463622473,0.013125279,-0.0181431659,0.0405031033,-0.000807111,-0.0407321043,0.0480432473,0.0224205349,-0.0113715315,0.0268716626,-0.0092316605,-0.0462989993,-0.0204363298,0.0617269166,-0.022865871,0.0351718478,-0.0362751111,-0.0436263271,0.00655255,0.0527831279,-0.0365991369,-0.0549356118,-0.0035280178,-0.015820913,-0.004866946,-0.0291279554,0.0168780722,-0.0576597378,-0.0102731138,0.0577287115,-0.0107078003,-0.0104513671,0.0078310082,0.0262835026,-0.0171857681,0.0164583866,-0.0638098046,-0.040843606,-0.0153833749,0.0239822324,0.0126476828,0.0121714417,0.0079087131,-0.0126654031,0.0509298667,-0.0066735819,-0.0903586298,0.0204043016,0.0071062651,-0.0612097681,-0.0460979529,-0.0115619935,0.0412849337,-0.0812021047,-0.0145047391,0.0085691381,-0.0201328974,-0.0198943298,-0.0584483817,0.0313249305,0.0140745658,0.0287672281,-0.0083450042,-0.0339931548,0.036989022,0.0319328345,-0.0355588607,-0.070692867,0.0086756507,-0.0105716437,-0.0518840365,0.0427440368,0.0153854843,-0.0297258217,0.0459777527,0.0554191209,-0.0390611216,-0.0251707453,0.0059479228,0.0397401452,-0.0300284661,-0.0052066669,-0.0385787375,-0.009493107,0.0027097587,0.032051485,-0.0138141159,-0.0300422125,0.0038310287,0.0169242248,-0.0548902676,0.0291893985,0.0634208247,0.0606543981,0.0310172401,0.0297602676,-0.043070823,0.0124701904,0.0348503403,0.0265574437,-0.0147502553,-0.0188565142,0.0672206506,-0.0330398902,0.0192920249,-0.0182392299,-0.0228661969,0.0024396416,0.0340188034,-0.0326736532,-0.0395143665,0.0586578734,0.0180763099,-0.0283427145,0.0132194115,-0.0046034991,-0.0193334688,-0.0070229047,-0.0706594214,-0.029474061,0.0045920457,0.0048902496,-0.0297015384,0.0190925393,-0.0169387739,-0.026646778,0.0222748611,0.018779764,-0.0355403721,-0.0313874148,0.0459441505,0.0078329854,0.0092882337,-0.0569089167,0.1046322882,0.0065017696,0.0195178967,-0.0228770133,0.0366102532,0.0300622545,-0.0618629307,0.0116065349,-0.0718330592,0.0350400656,0.0847344548,0.0341890045,0.0464346968,-0.0053667924,-0.0192318838,-0.0677038506,-0.0036560388,-0.0022053286,-0.0398684964,0.0177040584,-0.0286395941,-0.0306954253,-0.0471314713,-0.0079647247,0.0333696529,-0.0121080671,0.1014649719,0.0165882371,0.035046231,0.0436947048,-0.0184702277,-0.0274977069,0.0058555715,-0.0783587918,0.0148530276,-0.0453897864,0.0295791775,-0.0018830104,0.0112209888,0.0615328774,0.0453033932,-0.0393877141,0.0143201118,-0.0182824861,0.0296011828,-0.0388378799,0.0030685472,0.0060670804,-0.0080517763,0.0819980949,0.0506425537,-0.0319110975,-0.0484299473,-0.0072608246,-0.0194208026,-0.0148755554,-0.0302177519,0.0595741495,0.0196694881,0.0366019644,-0.0462455712,-0.032179825,0.0171583593,0.0270105898,-0.010630032,0.0180863272,0.0177094266,0.0034801522,0.0013516514,0.0213030167,-0.0114122145,-0.053242851,0.0081076575,0.0497860871,0.0059855012,0.0382574201,0.0213461686,-0.0027749233,-0.0078182928,0.0295331776,-0.0381678343,-0.0025444867,-0.0194279402,-0.0042781546,0.0167397838,-0.0119672883,-0.036176756,-0.0372327827,-0.0506045893,-0.0504072458,0.0170900952,0.0133148283,-0.0294856578,-0.0014138457,0.0086061349,0.0107944254,-0.0102721509,0.0389902964,0.0020739781,-0.0169569552,-0.0334399901,0.0076628132,0.0247592963,0.0136036873,0.0032574558,-0.0102795232,0.0250591841,-0.0310610272,-0.0612556189,0.0888508409,0.0524806567,0.0599128567,0.1249770224,-0.0100460071,-0.0594705045,0.0317216925,0.0486242957,-0.0013008448,0.0284410659,0.0020688369,-0.0374446549,0.0090174815,0.0318617523,0.0359176919,-0.0247253589,-0.0238636509,0.1018684059,-0.0186480321,0.0191197284,0.0071816836,-0.0486079156,-0.051555939,-0.0381023958,0.0068913703,-0.0459505357,0.0147336377,-0.002294098,0.0410905182,-0.0021949804,0.0387667157,0.0031886026,-0.0316850469,0.0641522184,-0.0032478624,-0.0585537292,-0.025881052,-0.02350826,0.0165311601,0.0433003046,-0.0391633809,-0.0008660943,-0.0073695267,0.004086582,-0.0444096588,0.0352303945,0.0157101396,0.0126994634,-0.0178875532,0.0028442212,-0.0659276918,-0.0499713607,0.005662506,0.0057020551,0.0257454328,-0.0489953011,-0.0192077421,-0.0167700835,-0.031495776,-0.023005398,-0.0089713763,-0.0003751489,-0.0545247607,0.0295044649,-0.0170344636,-0.0355054326,0.003602698,-0.0370108709,0.0103338789,-0.008386665,0.0174475666,-0.0098687522,0.0126953134,0.0575398207,0.0114692282,-0.0045047915,0.0285145771,-0.0258544926,0.0026358282,0.0281826854,-0.0409631021,0.0547304302,-0.0557629652,-0.0391363129,0.0520378202,-0.0150105497,0.0123532116,-0.0392066687,0.0256653689,-0.0049585872,0.0592825674,0.0228291806,-0.04584397,-0.0250369422,-0.083566986,-0.0423987806,-0.0084022963,-0.0468117185,0.0416584946,-0.028579127,-0.0430604778,0.0165409632,0.0505266227,0.0301220156,0.0417071953,0.0122676613,-0.0022145056,-0.0624723472,0.0078080054,0.0178755857,-0.0045938203,-0.045681037,-0.0045018289,0.0183917135,0.0050883354,-0.0193572603,-0.0272910558,-0.0261013173,0.071190685,0.0307701696,0.0048377081,0.0023885081,0.0271383319,-0.0193419158,0.0401982777,-0.0049048192,0.0263256822,0.058955051,-0.0710643008,0.0368241109,-0.0245634839,0.0167607497,0.0489274897,0.0069086915,-0.0431468822,-0.0345658921,0.0130942483,0.0111419801,-0.0024141164,0.0244494453,0.0665068999,0.0601051822,0.0832878724,-0.0061949189,-0.0350073725,0.0335139818,-0.0094601139,-0.0123850601,0.0033390699,-0.0786898062,0.0394978672,0.0399011374,0.0125780804,-0.0347799286,0.0200831573,0.0050155488,-0.0544677638,-0.0418695174,0.0347929448,-0.0624560192,-0.0157308411,-0.0280176438,-0.0093865274,0.0339912176,0.0142581863,0.017054813,-0.0372411311,0.0656743422,0.0553657077,-0.0066949963,-0.0267629009,-0.0176510513,0.0098816743,-0.0344381705,0.0074497787,-0.0478489138,0.0115924673,0.0252356194,-0.0047330181,0.0229682252,-0.0736787096,0.0118327532,0.0040832753,0.0458033048,-0.0373624973,-0.0048724641,0.016148027,-0.0240151361,-0.0204441696,-0.0477862097,-0.0210367423,0.0007339843,-0.0279047396,0.0429168567,-0.0126370164,0.0019325133,0.07503815,0.0356446467,0.059976425,-0.0330381803,0.0194087457,0.0432305299,0.0033831475,0.0007866,0.0048353565,0.0196270868,0.0065344376,0.0013121315,0.0323722176,-0.039269682,-0.0347071774,-0.0138174659,-0.0188139901,-0.0476467758,-0.0646375194,-0.0084867058,-0.0186784677,0.0240865033,0.0121924952,0.0623598509,0.0121081695,0.03383426,-0.0316315778,0.0394758135,0.024896659,-0.0092094466,-0.0262855142,-0.0264660753,0.0217627883,-0.0432610139,-0.07003057,0.0088535137]}\n",
            "{\"id\":20850493,\"embedding\":[-0.0129370606,0.0063947542,-0.0019034155,0.0605185144,0.0145786433,-0.0748504922,0.0717693493,0.0619074292,-0.0019958329,-0.0091266073,0.0054350374,0.0348102897,-0.0008596854,0.0169558767,0.0295931362,-0.0243233684,-0.0306874048,0.0093980087,0.0047379611,0.0029335986,-0.0123849222,-0.0278980192,0.0241373591,-0.0321898684,-0.0049843215,-0.0978090763,0.0196000468,0.0170836486,-0.0123921754,0.0182341486,-0.0297323894,0.00057473,-0.0452456586,-0.0284944605,0.0014146329,0.0088247173,-0.055464793,0.006155102,0.0232302304,0.0366077237,0.0177835301,0.0203633737,0.0225128662,0.0028469623,-0.0035332888,0.0385218672,-0.0027978932,0.0537929162,0.0328978598,-0.0438334495,-0.0102095297,0.0086368602,0.0418477543,-0.0284686871,0.0053336485,0.06612771,-0.0219895747,-0.0098452065,0.0121010374,-0.0069556157,-0.0459387936,-0.0300191194,0.0287270509,-0.0113209905,0.0345299728,0.0538587943,0.0633604228,0.0009538838,-0.0525157005,-0.0444122218,0.0259581935,0.027363956,0.0334978811,-0.0414097011,0.0014944536,-0.0200911071,-0.0257863011,-0.008236072,0.0072829179,-0.0240370054,-0.056770917,-0.0157564133,-0.025633011,-0.076726988,-0.0258079451,0.0853088349,-0.0125016868,-0.0131983804,-0.024693666,0.0574901812,-0.0423941091,-0.0134949246,-0.0245778318,0.012277469,-0.0073041706,0.0284893643,-0.0131811472,0.00777021,0.00357762,-0.0213599354,0.0125320684,-0.0189198367,0.0262181591,-0.0085284067,0.0325445682,-0.0333261229,0.0192532018,0.0090313787,-0.0749667734,-0.0825242475,-0.0582307614,-0.0128220636,-0.0506849661,0.0570256114,0.0210278817,-0.0114465337,0.0006704689,0.0071182586,0.0255572833,-0.0024545672,-0.0321507081,0.0460327938,0.0146245668,0.0145955011,0.0297634155,-0.0164694246,0.0782225877,-0.0129945679,0.0657428205,-0.0162991453,0.0401477143,0.008515575,0.0358393565,-0.0079236189,0.0083406437,0.0493638925,0.0336740911,-0.0192613881,0.0398639515,-0.0191569515,-0.0188119095,0.0083104987,0.0209740847,0.0022384147,0.0131492577,-0.0695550293,0.0603201352,0.0103190914,-0.0520566218,-0.0018499488,0.0503557883,0.0119686211,0.0109501099,0.0199417826,0.0069671217,0.0621186756,0.038699761,0.0799757838,-0.0370984636,-0.0574208722,-0.0374384001,0.0232022852,-0.0090387519,0.0028814184,0.0560066886,-0.0142264031,0.0643228516,0.0464456268,-0.0039595016,0.0195018444,0.0139014106,-0.0838779286,0.0362286121,-0.0411658995,-0.0067843827,-0.0345918313,-0.0176050588,0.0477605797,0.0078234915,-0.0340246931,-0.0089874417,-0.0168864783,0.0717827454,0.0059078308,-0.0658181012,0.0454810746,0.0071618487,-0.027905805,0.0182987079,0.0547370985,-0.0001325413,0.0121744126,0.041262988,-0.02108608,-0.0153994057,-0.0045121959,0.0836089402,-0.0868658125,-0.0094656004,-0.0114926416,-0.0239406694,-0.0348315984,0.0097860219,0.049595546,-0.0003360298,-0.007984072,-0.0342514664,0.0104007088,0.0173405223,0.0265589152,-0.0266504493,-0.0029904665,0.0704123974,0.0319214649,0.0378469676,-0.0636583194,0.0064512179,0.0163862668,-0.0384624302,0.0028236019,0.0080958745,0.0091213575,-0.0088711502,-0.0110768825,-0.0234526917,0.0432043038,0.0275052823,0.0372654647,0.0485400222,0.0127801895,0.0211290885,0.0230542067,-0.0173584968,-0.0081506036,-0.0056724562,0.0688907504,0.0436736122,-0.0106463609,-0.0892153159,0.0044221831,0.0141749987,0.0373208895,0.0050179376,0.0587916076,-0.0225003455,0.0135250846,0.0062020929,-0.0079363734,-0.0023195215,0.008360886,0.0393409841,-0.0652625933,-0.0031127727,-0.001526271,0.0065085641,0.000641954,0.0129876072,0.0403687656,0.0141948583,-0.0098738056,-0.0103348577,0.0145215001,-0.0161305629,0.1297280192,0.0277441069,-0.0582218282,0.0361849442,-0.0021032982,0.0310996789,-0.043655999,0.0057570329,-0.0351775438,0.001373635,0.0390054248,-0.0190148801,0.0063477401,-0.0189190153,0.0301340744,0.0104077328,0.0565660335,0.0123897213,-0.0236698277,0.0126922205,0.0853251964,0.0114002256,0.0342594348,0.0274725519,-0.0189829823,-0.0764091015,-0.0126017816,-0.000337911,-0.0296430923,0.0179525968,0.0353521518,0.0123076783,-0.0318097733,0.0174326524,-0.015573903,-0.0256371237,0.0285708047,-0.0364422575,0.0256146695,0.0264557675,-0.0025261333,-0.0124697872,-0.0364952609,-0.0115456479,0.0212337282,0.0319276787,-0.0040016058,-0.023171261,-0.03866449,0.0748232752,-0.0342590399,-0.0214748345,-0.0127381617,0.0579312406,-0.0305738822,-0.0385309011,0.0413456075,-0.0271754153,-0.0141966539,0.0872899368,-0.0231019128,-0.0022783123,-0.0070136534,0.0035861481,-0.0048449724,0.0318536647,-0.0156873111,-0.0381483287,-0.0515515134,0.0266771354,0.0358992517,0.0070394571,0.018273266,0.0179989878,0.0222782362,0.0146219209,-0.0121119404,0.0039051743,0.023642648,-0.0600240566,-0.0289938599,0.0019996674,0.015248253,-0.0398791805,-0.0376122668,-0.0428955853,-0.0455236807,-0.0349907018,-0.018707661,0.0024712062,0.0447011217,0.0486333966,0.0247823969,-0.03968006,-0.0190555528,0.0457441658,-0.0257414281,-0.075269945,0.0184005275,-0.0244217385,-0.0499230884,0.0287865326,0.03858836,-0.0802138224,0.0034088262,0.0413943045,-0.0069122333,-0.0420691185,-0.0337350518,0.0768148676,-0.0120740402,-0.0789865553,-0.0066640158,-0.045252867,0.0137864798,0.0184022095,-0.0129296454,0.0093694767,-0.0023512829,0.040780127,-0.0304242894,-0.0044619823,-0.0073150853,-0.0061256071,0.0610108897,-0.0415656045,-0.0344363004,0.0035783863,0.0353558809,-0.0022213946,0.0018723314,-0.0013019268,0.0846305639,-0.0420334972,-0.0175916683,-0.0049029388,-0.0604013726,0.0528619476,0.0592106916,-0.0894176587,-0.086232543,-0.016394455,0.0655654445,-0.0387119576,0.039087262,-0.0063924603,-0.0624539889,0.0128994463,-0.0110779917,-0.020614326,0.0040280572,-0.0258954596,-0.0555022359,-0.0005802195,-0.021731019,-0.0115765035,0.0263637453,-0.0123414584,-0.0121476026,-0.0478530042,0.0777607933,0.0194237176,0.024044292,-0.0321066082,0.0121864155,-0.0276027005,-0.0123821842,0.0115096886,0.0278133526,-0.0042029805,-0.0699043423,-0.013308431,-0.0568363331,0.0969112739,0.0771631449,0.0304187685,0.0062876958,-0.0093740039,0.0053622406,-0.0490042642,0.0246764868,0.0028324176,-0.0622583777,-0.0539941862,-0.0352842249,0.0058853962,-0.0367276073,0.0233060718,0.0117119029,0.0784527957,0.0871845037,-0.0252130255,0.0030945903,0.0250430778,0.0006882372,-0.0247274395,0.041406244,-0.0513784811,0.0133122224,0.0228777397,0.0427023433,-0.0258060526,-0.0050613261,0.0428675227,0.0278005973,-0.0052883816,0.0403596871,-0.041362416,0.1044536158,-0.0047357003,-0.0001526534,0.0349995792,0.0025464243,0.0425474942,0.0658705905,-0.0034954238,0.0200548787,-0.0017487544,-0.0066510718,0.0000928751,-0.0057639391,0.0366654247,0.011613518,-0.0219932273,-0.0613658205,-0.0059785792,0.0013473745,0.0282750186,0.0294548143,0.0512923822,0.0626373664,0.0352850221,-0.0333922431,0.0074224304,0.039297875,0.0443986617,-0.0202446114,0.0075608403,0.0405827276,-0.0158445686,-0.0275983512,-0.013672635,-0.0544996597,0.0089087794,-0.003378351,-0.0166324433,0.0510058589,-0.0249815881,0.0269763041,0.0171499439,-0.0470808484,-0.0430294946,-0.0470000207,-0.0325049311,0.0276253223,-0.0215558615,-0.0390138663,-0.0149470475,-0.0290187187,-0.0388587825,-0.00921416,-0.0186130144,0.0385560282,-0.0004864369,-0.0149852876,-0.0472816341,-0.0025519074,0.0107821906,-0.0538540706,-0.0109644253,-0.0174844507,-0.0011381517,-0.0371698476,0.0419473834,-0.0181682333,0.0275209956,0.0930583328,0.0380672105,-0.0094487835,0.060449183,-0.0035819125,-0.0441194028,0.0170437526,0.026224779,0.0352312513,0.0154031552,0.0464724489,0.0062753861,0.0193273854,-0.0263022743,0.0863020271,0.0472828336,-0.0385077596,0.0634954721,0.0028840085,-0.0608887374,-0.0704282448,-0.0403027721,-0.0022555888,0.0137607362,-0.0117344866,0.0511361286,-0.0284819175,0.0474031046,-0.0139540145,0.0523719117,0.045489978,0.0424929596,-0.0923184752,0.0198683422,-0.0291724093,-0.0067699254,0.0050453227,-0.0008952103,0.0186694432,-0.0492453873,0.0276218057,-0.0356069654,0.008663456,0.0324602388,0.0436851978,0.0169350374,0.0253728088,0.0190681685,-0.0141053339,0.0072872154,-0.0249553993,0.0283121038,-0.1002192199,-0.034989886,-0.020539809,-0.0404561311,-0.0509209186,0.0099303396,-0.0036775302,0.0344739482,0.0124846492,-0.0265359897,-0.0426636711,0.0039168429,-0.0018489528,-0.0149326911,-0.0077129616,0.0069970386,-0.0175494328,0.0453520603,0.0302675273,0.0366523489,0.0761461779,0.0196162779,-0.0139738014,-0.0466802008,0.0079431236,-0.0060151811,0.0794337466,-0.0113360602,0.0197962038,0.0350781977,0.0190156177,-0.001996075,-0.0432614237,0.043935474,-0.0484733321,0.0110369613,0.0104862805,0.0023214247,-0.0384861305,0.0302419197,-0.0363784656,-0.0112142703,-0.0830155611,0.0384917483,0.0135646304,-0.023720596,0.0083828056,0.0635349676,0.0145744206,0.0442199707,0.0403996781,-0.0492227115,-0.0715346783,-0.0229203682,-0.029108787,-0.0074691176,-0.0496177934,0.010823207,0.0391519479,0.0123496614,-0.034274336,0.0043006693,-0.0332935378,-0.0365302488,-0.0125433272,0.0086813923,0.0361326188,-0.0221270956,0.0355817713,0.0119689889,-0.0132690957,0.0244873762,0.0261765439,-0.0467582569,0.0424667932,-0.0046992386,-0.0158850197,0.0117242793,-0.0328657143,-0.0469300337,-0.0479081236,0.0016842621,0.0331269689,0.0158944242,0.0296278168,-0.0142103741,0.0575181544,0.0230443701,0.0088458378,-0.0551304705,0.0252584908,-0.0444774218,-0.0143625112,0.0538151488,0.0000997805,0.0293311737,-0.0219549909,-0.0117872795,-0.0397274345,0.0167394839,-0.027834015,-0.0842412412,0.0122459363,-0.0245826188,-0.0369049981,-0.0374566205,0.0210334826,-0.0470146872,0.0391484126,0.0010919139,0.0012391348,0.0826510414,0.0244269222,0.0435269587,-0.0237582661,-0.0021629208,-0.0244504567,-0.0527303368,-0.0456904545,0.0107010594,-0.0040097926,0.0378867686,-0.018897647,-0.0613888912,0.0655180365,-0.0940994471,0.0185381956,-0.0044788783,0.0184454806,-0.0138137918,0.0101172924,0.0396370776,-0.0306284633,-0.0187997725,0.0248712972,0.0328647383,-0.0810455903,-0.0724539086,0.0435003601,-0.0171484929,-0.0086408285,0.019488398,-0.0010293893,0.0145585369,0.0041232496,0.027858682,0.0301054865,0.0119660562,-0.03965725,-0.0110291839,0.0181048997,-0.0084444573,0.0054363883,0.0077074729,-0.0121777141,-0.0234868992,-0.0382075347,0.0036587382,-0.0361725762,-0.0450560376,0.0571526103,0.0197005607,-0.0299391337,0.0081173042,0.100533545,0.0264118779,0.0757507086,-0.0240023788,0.035659261,-0.0137674594,-0.0051039397,-0.0454713255,0.0256759822,0.0222045612,-0.0608303398,-0.014583569,-0.0510879569]}\n"
          ]
        }
      ],
      "source": [
        "# save id and embedding as a json file\n",
        "jsonl_string = df[[\"id\", \"embedding\"]].to_json(orient=\"records\", lines=True)\n",
        "with open(\"questions.json\", \"w\") as f:\n",
        "    f.write(jsonl_string)\n",
        "\n",
        "# show the first few lines of the json file\n",
        "! head -n 3 questions.json"
      ]
    },
    {
      "cell_type": "markdown",
      "metadata": {
        "id": "-WTNJ3FAQl_W"
      },
      "source": [
        "Then, create a new Cloud Storage bucket and copy the file to it."
      ]
    },
    {
      "cell_type": "code",
      "execution_count": 17,
      "metadata": {
        "id": "CzwDWJfzAk3n",
        "outputId": "1fcbddcf-8397-4cd9-fd06-ed1c2c21b21e",
        "colab": {
          "base_uri": "https://localhost:8080/"
        }
      },
      "outputs": [
        {
          "output_type": "stream",
          "name": "stdout",
          "text": [
            "Creating gs://tokyo-mind-407401-embvs-tutorial-02140617/...\n",
            "Copying file://questions.json [Content-Type=application/json]...\n",
            "\\\n",
            "Operation completed over 1 objects/9.8 MiB.                                      \n"
          ]
        }
      ],
      "source": [
        "BUCKET_URI = f\"gs://{PROJECT_ID}-embvs-tutorial-{UID}\"\n",
        "! gsutil mb -l $LOCATION -p {PROJECT_ID} {BUCKET_URI}\n",
        "! gsutil cp questions.json {BUCKET_URI}"
      ]
    },
    {
      "cell_type": "markdown",
      "metadata": {
        "id": "xxdbjKw1XDxl"
      },
      "source": [
        "### Create an Index\n",
        "\n",
        "Now it's ready to load the embeddings to Vector Search. Its APIs are available under the [aiplatform](https://cloud.google.com/python/docs/reference/aiplatform/latest/google.cloud.aiplatform) package of the SDK."
      ]
    },
    {
      "cell_type": "code",
      "execution_count": 18,
      "metadata": {
        "id": "8unyr9KagAoI"
      },
      "outputs": [],
      "source": [
        "# init the aiplatform package\n",
        "from google.cloud import aiplatform\n",
        "\n",
        "aiplatform.init(project=PROJECT_ID, location=LOCATION)"
      ]
    },
    {
      "cell_type": "markdown",
      "metadata": {
        "id": "xpMUXqWQ75uu"
      },
      "source": [
        "Create an [MatchingEngineIndex](https://cloud.google.com/python/docs/reference/aiplatform/latest/google.cloud.aiplatform.MatchingEngineIndex) with its `create_tree_ah_index` function (Matching Engine is the previous name of Vector Search)."
      ]
    },
    {
      "cell_type": "code",
      "execution_count": 19,
      "metadata": {
        "id": "kKDw5VXMkXb3",
        "outputId": "dd564b0b-e67a-4dec-ca92-baf6a636c0a7",
        "colab": {
          "base_uri": "https://localhost:8080/"
        }
      },
      "outputs": [
        {
          "output_type": "stream",
          "name": "stderr",
          "text": [
            "INFO:google.cloud.aiplatform.matching_engine.matching_engine_index:Creating MatchingEngineIndex\n",
            "INFO:google.cloud.aiplatform.matching_engine.matching_engine_index:Create MatchingEngineIndex backing LRO: projects/337921060221/locations/us-central1/indexes/1363011788395773952/operations/1358556498560548864\n",
            "INFO:google.cloud.aiplatform.matching_engine.matching_engine_index:MatchingEngineIndex created. Resource name: projects/337921060221/locations/us-central1/indexes/1363011788395773952\n",
            "INFO:google.cloud.aiplatform.matching_engine.matching_engine_index:To use this MatchingEngineIndex in another session:\n",
            "INFO:google.cloud.aiplatform.matching_engine.matching_engine_index:index = aiplatform.MatchingEngineIndex('projects/337921060221/locations/us-central1/indexes/1363011788395773952')\n"
          ]
        }
      ],
      "source": [
        "# create index\n",
        "my_index = aiplatform.MatchingEngineIndex.create_tree_ah_index(\n",
        "    display_name=f\"embvs-tutorial-index-{UID}\",\n",
        "    contents_delta_uri=BUCKET_URI,\n",
        "    dimensions=768,\n",
        "    approximate_neighbors_count=20,\n",
        "    distance_measure_type=\"DOT_PRODUCT_DISTANCE\",\n",
        ")"
      ]
    },
    {
      "cell_type": "markdown",
      "metadata": {
        "id": "2rFam_w9U0dI"
      },
      "source": [
        "By calling the `create_tree_ah_index` function, it starts building an Index. This will take under a few minutes if the dataset is small, otherwise about 50 minutes or more depending on the size of the dataset. You can check status of the index creation on [the Vector Search Console > INDEXES tab](https://console.cloud.google.com/vertex-ai/matching-engine/indexes).\n",
        "\n",
        "![](https://storage.googleapis.com/github-repo/img/embeddings/vs-quickstart/creating-index.png)\n",
        "\n",
        "#### The parameters for creating index\n",
        "\n",
        "- `contents_delta_uri`: The URI of Cloud Storage directory where you stored the embedding JSON files\n",
        "- `dimensions`: Dimension size of each embedding. In this case, it is 768 as we are using the embeddings from the Text Embeddings API.\n",
        "- `approximate_neighbors_count`: how many similar items we want to retrieve in typical cases\n",
        "- `distance_measure_type`: what metrics to measure distance/similarity between embeddings. In this case it's `DOT_PRODUCT_DISTANCE`\n",
        "\n",
        "See [the document](https://cloud.google.com/vertex-ai/docs/vector-search/create-manage-index) for more details on creating Index and the parameters.\n",
        "\n",
        "#### Batch Update or Streaming Update?\n",
        "There are two types of index: Index for *Batch Update* (used in this tutorial) and Index for *Streaming Updates*. The Batch Update index can be updated with a batch process whereas the Streaming Update index can be updated in real-time. The latter one is more suited for use cases where you want to add or update each embeddings in the index more often, and crucial to serve with the latest embeddings, such as e-commerce product search.\n",
        "\n"
      ]
    },
    {
      "cell_type": "markdown",
      "metadata": {
        "id": "VLOAMF50XMI8"
      },
      "source": [
        "### Create Index Endpoint and deploy the Index\n",
        "\n",
        "To use the Index, you need to create an [Index Endpoint](https://cloud.google.com/vertex-ai/docs/vector-search/deploy-index-public). It works as a server instance accepting query requests for your Index."
      ]
    },
    {
      "cell_type": "code",
      "execution_count": 20,
      "metadata": {
        "id": "h6IzyufWCjU1",
        "outputId": "835638c7-8617-4a24-f290-277ecd880a91",
        "colab": {
          "base_uri": "https://localhost:8080/"
        }
      },
      "outputs": [
        {
          "output_type": "stream",
          "name": "stderr",
          "text": [
            "INFO:google.cloud.aiplatform.matching_engine.matching_engine_index_endpoint:Creating MatchingEngineIndexEndpoint\n",
            "INFO:google.cloud.aiplatform.matching_engine.matching_engine_index_endpoint:Create MatchingEngineIndexEndpoint backing LRO: projects/337921060221/locations/us-central1/indexEndpoints/5868300265626533888/operations/3791626197247459328\n",
            "INFO:google.cloud.aiplatform.matching_engine.matching_engine_index_endpoint:MatchingEngineIndexEndpoint created. Resource name: projects/337921060221/locations/us-central1/indexEndpoints/5868300265626533888\n",
            "INFO:google.cloud.aiplatform.matching_engine.matching_engine_index_endpoint:To use this MatchingEngineIndexEndpoint in another session:\n",
            "INFO:google.cloud.aiplatform.matching_engine.matching_engine_index_endpoint:index_endpoint = aiplatform.MatchingEngineIndexEndpoint('projects/337921060221/locations/us-central1/indexEndpoints/5868300265626533888')\n"
          ]
        }
      ],
      "source": [
        "# create IndexEndpoint\n",
        "my_index_endpoint = aiplatform.MatchingEngineIndexEndpoint.create(\n",
        "    display_name=f\"embvs-tutorial-index-endpoint-{UID}\",\n",
        "    public_endpoint_enabled=True,\n",
        ")"
      ]
    },
    {
      "cell_type": "markdown",
      "metadata": {
        "id": "IQXq76bt0y42"
      },
      "source": [
        "This tutorial utilizes a [Public Endpoint](https://cloud.google.com/vertex-ai/docs/vector-search/setup/setup#choose-endpoint) and does not support [Virtual Private Cloud (VPC)](https://cloud.google.com/vpc/docs/private-services-access). Unless you have a specific requirement for VPC, we recommend using a Public Endpoint. Despite the term \"public\" in its name, it does not imply open access to the public internet. Rather, it functions like other endpoints in Vertex AI services, which are secured by default through IAM. Without explicit IAM permissions, as we have previously established, no one can access the endpoint."
      ]
    },
    {
      "cell_type": "markdown",
      "metadata": {
        "id": "8n33iO1T5hFO"
      },
      "source": [
        "With the Index Endpoint, deploy the Index by specifying an unique deployed index ID."
      ]
    },
    {
      "cell_type": "code",
      "execution_count": 1,
      "metadata": {
        "id": "FcBHLifGwAWq",
        "outputId": "5447fe76-512b-4195-f58c-57946848f82e",
        "colab": {
          "base_uri": "https://localhost:8080/",
          "height": 144
        }
      },
      "outputs": [
        {
          "output_type": "error",
          "ename": "NameError",
          "evalue": "name 'UID' is not defined",
          "traceback": [
            "\u001b[0;31m---------------------------------------------------------------------------\u001b[0m",
            "\u001b[0;31mNameError\u001b[0m                                 Traceback (most recent call last)",
            "\u001b[0;32m<ipython-input-1-f6109b10766f>\u001b[0m in \u001b[0;36m<cell line: 1>\u001b[0;34m()\u001b[0m\n\u001b[0;32m----> 1\u001b[0;31m \u001b[0mDEPLOYED_INDEX_ID\u001b[0m \u001b[0;34m=\u001b[0m \u001b[0;34mf\"embvs_tutorial_deployed_{UID}\"\u001b[0m\u001b[0;34m\u001b[0m\u001b[0;34m\u001b[0m\u001b[0m\n\u001b[0m",
            "\u001b[0;31mNameError\u001b[0m: name 'UID' is not defined"
          ]
        }
      ],
      "source": [
        "DEPLOYED_INDEX_ID = f\"embvs_tutorial_deployed_{UID}\""
      ]
    },
    {
      "cell_type": "code",
      "execution_count": 28,
      "metadata": {
        "id": "1jUoGhY5TPFP",
        "outputId": "26acc5b6-ffba-406d-8417-674b0b09e69b",
        "colab": {
          "base_uri": "https://localhost:8080/"
        }
      },
      "outputs": [
        {
          "metadata": {
            "tags": null
          },
          "name": "stderr",
          "output_type": "stream",
          "text": [
            "INFO:google.cloud.aiplatform.matching_engine.matching_engine_index_endpoint:Deploying index MatchingEngineIndexEndpoint index_endpoint: projects/337921060221/locations/us-central1/indexEndpoints/7496351530920968192\n",
            "INFO:google.cloud.aiplatform.matching_engine.matching_engine_index_endpoint:Deploy index MatchingEngineIndexEndpoint index_endpoint backing LRO: projects/337921060221/locations/us-central1/indexEndpoints/7496351530920968192/operations/246167390600036352\n",
            "INFO:google.cloud.aiplatform.matching_engine.matching_engine_index_endpoint:MatchingEngineIndexEndpoint index_endpoint Deployed index. Resource name: projects/337921060221/locations/us-central1/indexEndpoints/7496351530920968192\n"
          ]
        },
        {
          "data": {
            "text/plain": [
              "<google.cloud.aiplatform.matching_engine.matching_engine_index_endpoint.MatchingEngineIndexEndpoint object at 0x7b42a4e31db0> \n",
              "resource name: projects/337921060221/locations/us-central1/indexEndpoints/7496351530920968192"
            ]
          },
          "execution_count": 28,
          "metadata": {},
          "output_type": "execute_result"
        }
      ],
      "source": [
        "# deploy the Index to the Index Endpoint\n",
        "my_index_endpoint.deploy_index(index=my_index, deployed_index_id=DEPLOYED_INDEX_ID)"
      ]
    },
    {
      "cell_type": "markdown",
      "metadata": {
        "id": "xu9ZmWcpXQ55"
      },
      "source": [
        "If it is the first time to deploy an Index to an Index Endpoint, it will take around 25 minutes to automatically build and initiate the backend for it. After the first deployment, it will finish in seconds. To see the status of the index deployment, open [the Vector Search Console > INDEX ENDPOINTS tab](https://console.cloud.google.com/vertex-ai/matching-engine/index-endpoints) and click the Index Endpoint.\n",
        "\n",
        "<img src=\"https://storage.googleapis.com/github-repo/img/embeddings/vs-quickstart/deploying-index.png\" width=\"70%\">"
      ]
    },
    {
      "cell_type": "markdown",
      "metadata": {
        "id": "oTi4PjjbXV-O"
      },
      "source": [
        "### Run Query\n",
        "\n",
        "Finally it's ready to use Vector Search. In the following code, it creates an embedding for a test question, and find similar question with the Vector Search."
      ]
    },
    {
      "cell_type": "code",
      "execution_count": 26,
      "metadata": {
        "id": "FhNuRQqUWdfe",
        "outputId": "3c4397ef-cd5d-41c4-f4c6-32317db80b43",
        "colab": {
          "base_uri": "https://localhost:8080/"
        }
      },
      "outputs": [
        {
          "output_type": "stream",
          "name": "stderr",
          "text": [
            "100%|██████████| 1/1 [00:01<00:00,  1.25s/it]\n"
          ]
        }
      ],
      "source": [
        "test_embeddings = get_embeddings_wrapper([\"How to read JSON with Python?\"])"
      ]
    },
    {
      "cell_type": "code",
      "execution_count": 27,
      "metadata": {
        "id": "Q01DGMBPXAg-",
        "outputId": "cbe7bddc-016d-4be7-ef18-79adb18fe32c",
        "colab": {
          "base_uri": "https://localhost:8080/",
          "height": 507
        }
      },
      "outputs": [
        {
          "output_type": "error",
          "ename": "NotFound",
          "evalue": "404 Index 'embvs_tutorial_deployed_02140617' is not found.",
          "traceback": [
            "\u001b[0;31m---------------------------------------------------------------------------\u001b[0m",
            "\u001b[0;31m_InactiveRpcError\u001b[0m                         Traceback (most recent call last)",
            "\u001b[0;32m/usr/local/lib/python3.10/dist-packages/google/api_core/grpc_helpers.py\u001b[0m in \u001b[0;36merror_remapped_callable\u001b[0;34m(*args, **kwargs)\u001b[0m\n\u001b[1;32m     71\u001b[0m         \u001b[0;32mtry\u001b[0m\u001b[0;34m:\u001b[0m\u001b[0;34m\u001b[0m\u001b[0;34m\u001b[0m\u001b[0m\n\u001b[0;32m---> 72\u001b[0;31m             \u001b[0;32mreturn\u001b[0m \u001b[0mcallable_\u001b[0m\u001b[0;34m(\u001b[0m\u001b[0;34m*\u001b[0m\u001b[0margs\u001b[0m\u001b[0;34m,\u001b[0m \u001b[0;34m**\u001b[0m\u001b[0mkwargs\u001b[0m\u001b[0;34m)\u001b[0m\u001b[0;34m\u001b[0m\u001b[0;34m\u001b[0m\u001b[0m\n\u001b[0m\u001b[1;32m     73\u001b[0m         \u001b[0;32mexcept\u001b[0m \u001b[0mgrpc\u001b[0m\u001b[0;34m.\u001b[0m\u001b[0mRpcError\u001b[0m \u001b[0;32mas\u001b[0m \u001b[0mexc\u001b[0m\u001b[0;34m:\u001b[0m\u001b[0;34m\u001b[0m\u001b[0;34m\u001b[0m\u001b[0m\n",
            "\u001b[0;32m/usr/local/lib/python3.10/dist-packages/grpc/_channel.py\u001b[0m in \u001b[0;36m__call__\u001b[0;34m(self, request, timeout, metadata, credentials, wait_for_ready, compression)\u001b[0m\n\u001b[1;32m   1159\u001b[0m         )\n\u001b[0;32m-> 1160\u001b[0;31m         \u001b[0;32mreturn\u001b[0m \u001b[0m_end_unary_response_blocking\u001b[0m\u001b[0;34m(\u001b[0m\u001b[0mstate\u001b[0m\u001b[0;34m,\u001b[0m \u001b[0mcall\u001b[0m\u001b[0;34m,\u001b[0m \u001b[0;32mFalse\u001b[0m\u001b[0;34m,\u001b[0m \u001b[0;32mNone\u001b[0m\u001b[0;34m)\u001b[0m\u001b[0;34m\u001b[0m\u001b[0;34m\u001b[0m\u001b[0m\n\u001b[0m\u001b[1;32m   1161\u001b[0m \u001b[0;34m\u001b[0m\u001b[0m\n",
            "\u001b[0;32m/usr/local/lib/python3.10/dist-packages/grpc/_channel.py\u001b[0m in \u001b[0;36m_end_unary_response_blocking\u001b[0;34m(state, call, with_call, deadline)\u001b[0m\n\u001b[1;32m   1002\u001b[0m     \u001b[0;32melse\u001b[0m\u001b[0;34m:\u001b[0m\u001b[0;34m\u001b[0m\u001b[0;34m\u001b[0m\u001b[0m\n\u001b[0;32m-> 1003\u001b[0;31m         \u001b[0;32mraise\u001b[0m \u001b[0m_InactiveRpcError\u001b[0m\u001b[0;34m(\u001b[0m\u001b[0mstate\u001b[0m\u001b[0;34m)\u001b[0m  \u001b[0;31m# pytype: disable=not-instantiable\u001b[0m\u001b[0;34m\u001b[0m\u001b[0;34m\u001b[0m\u001b[0m\n\u001b[0m\u001b[1;32m   1004\u001b[0m \u001b[0;34m\u001b[0m\u001b[0m\n",
            "\u001b[0;31m_InactiveRpcError\u001b[0m: <_InactiveRpcError of RPC that terminated with:\n\tstatus = StatusCode.NOT_FOUND\n\tdetails = \"Index 'embvs_tutorial_deployed_02140617' is not found.\"\n\tdebug_error_string = \"UNKNOWN:Error received from peer  {created_time:\"2024-02-14T06:27:55.724336193+00:00\", grpc_status:5, grpc_message:\"Index \\'embvs_tutorial_deployed_02140617\\' is not found.\"}\"\n>",
            "\nThe above exception was the direct cause of the following exception:\n",
            "\u001b[0;31mNotFound\u001b[0m                                  Traceback (most recent call last)",
            "\u001b[0;32m<ipython-input-27-9bc837d9305f>\u001b[0m in \u001b[0;36m<cell line: 2>\u001b[0;34m()\u001b[0m\n\u001b[1;32m      1\u001b[0m \u001b[0;31m# Test query\u001b[0m\u001b[0;34m\u001b[0m\u001b[0;34m\u001b[0m\u001b[0m\n\u001b[0;32m----> 2\u001b[0;31m response = my_index_endpoint.find_neighbors(\n\u001b[0m\u001b[1;32m      3\u001b[0m     \u001b[0mdeployed_index_id\u001b[0m\u001b[0;34m=\u001b[0m\u001b[0mDEPLOYED_INDEX_ID\u001b[0m\u001b[0;34m,\u001b[0m\u001b[0;34m\u001b[0m\u001b[0;34m\u001b[0m\u001b[0m\n\u001b[1;32m      4\u001b[0m     \u001b[0mqueries\u001b[0m\u001b[0;34m=\u001b[0m\u001b[0mtest_embeddings\u001b[0m\u001b[0;34m,\u001b[0m\u001b[0;34m\u001b[0m\u001b[0;34m\u001b[0m\u001b[0m\n\u001b[1;32m      5\u001b[0m     \u001b[0mnum_neighbors\u001b[0m\u001b[0;34m=\u001b[0m\u001b[0;36m20\u001b[0m\u001b[0;34m,\u001b[0m\u001b[0;34m\u001b[0m\u001b[0;34m\u001b[0m\u001b[0m\n",
            "\u001b[0;32m~/.local/lib/python3.10/site-packages/google/cloud/aiplatform/matching_engine/matching_engine_index_endpoint.py\u001b[0m in \u001b[0;36mfind_neighbors\u001b[0;34m(self, deployed_index_id, queries, num_neighbors, filter, per_crowding_attribute_neighbor_count, approx_num_neighbors, fraction_leaf_nodes_to_search_override, return_full_datapoint, numeric_filter, embedding_ids)\u001b[0m\n\u001b[1;32m   1328\u001b[0m             )\n\u001b[1;32m   1329\u001b[0m \u001b[0;34m\u001b[0m\u001b[0m\n\u001b[0;32m-> 1330\u001b[0;31m         \u001b[0mresponse\u001b[0m \u001b[0;34m=\u001b[0m \u001b[0mself\u001b[0m\u001b[0;34m.\u001b[0m\u001b[0m_public_match_client\u001b[0m\u001b[0;34m.\u001b[0m\u001b[0mfind_neighbors\u001b[0m\u001b[0;34m(\u001b[0m\u001b[0mfind_neighbors_request\u001b[0m\u001b[0;34m)\u001b[0m\u001b[0;34m\u001b[0m\u001b[0;34m\u001b[0m\u001b[0m\n\u001b[0m\u001b[1;32m   1331\u001b[0m \u001b[0;34m\u001b[0m\u001b[0m\n\u001b[1;32m   1332\u001b[0m         \u001b[0;31m# Wrap the results in MatchNeighbor objects and return\u001b[0m\u001b[0;34m\u001b[0m\u001b[0;34m\u001b[0m\u001b[0m\n",
            "\u001b[0;32m~/.local/lib/python3.10/site-packages/google/cloud/aiplatform_v1beta1/services/match_service/client.py\u001b[0m in \u001b[0;36mfind_neighbors\u001b[0;34m(self, request, retry, timeout, metadata)\u001b[0m\n\u001b[1;32m    741\u001b[0m \u001b[0;34m\u001b[0m\u001b[0m\n\u001b[1;32m    742\u001b[0m         \u001b[0;31m# Send the request.\u001b[0m\u001b[0;34m\u001b[0m\u001b[0;34m\u001b[0m\u001b[0m\n\u001b[0;32m--> 743\u001b[0;31m         response = rpc(\n\u001b[0m\u001b[1;32m    744\u001b[0m             \u001b[0mrequest\u001b[0m\u001b[0;34m,\u001b[0m\u001b[0;34m\u001b[0m\u001b[0;34m\u001b[0m\u001b[0m\n\u001b[1;32m    745\u001b[0m             \u001b[0mretry\u001b[0m\u001b[0;34m=\u001b[0m\u001b[0mretry\u001b[0m\u001b[0;34m,\u001b[0m\u001b[0;34m\u001b[0m\u001b[0;34m\u001b[0m\u001b[0m\n",
            "\u001b[0;32m/usr/local/lib/python3.10/dist-packages/google/api_core/gapic_v1/method.py\u001b[0m in \u001b[0;36m__call__\u001b[0;34m(self, timeout, retry, *args, **kwargs)\u001b[0m\n\u001b[1;32m    111\u001b[0m             \u001b[0mkwargs\u001b[0m\u001b[0;34m[\u001b[0m\u001b[0;34m\"metadata\"\u001b[0m\u001b[0;34m]\u001b[0m \u001b[0;34m=\u001b[0m \u001b[0mmetadata\u001b[0m\u001b[0;34m\u001b[0m\u001b[0;34m\u001b[0m\u001b[0m\n\u001b[1;32m    112\u001b[0m \u001b[0;34m\u001b[0m\u001b[0m\n\u001b[0;32m--> 113\u001b[0;31m         \u001b[0;32mreturn\u001b[0m \u001b[0mwrapped_func\u001b[0m\u001b[0;34m(\u001b[0m\u001b[0;34m*\u001b[0m\u001b[0margs\u001b[0m\u001b[0;34m,\u001b[0m \u001b[0;34m**\u001b[0m\u001b[0mkwargs\u001b[0m\u001b[0;34m)\u001b[0m\u001b[0;34m\u001b[0m\u001b[0;34m\u001b[0m\u001b[0m\n\u001b[0m\u001b[1;32m    114\u001b[0m \u001b[0;34m\u001b[0m\u001b[0m\n\u001b[1;32m    115\u001b[0m \u001b[0;34m\u001b[0m\u001b[0m\n",
            "\u001b[0;32m/usr/local/lib/python3.10/dist-packages/google/api_core/grpc_helpers.py\u001b[0m in \u001b[0;36merror_remapped_callable\u001b[0;34m(*args, **kwargs)\u001b[0m\n\u001b[1;32m     72\u001b[0m             \u001b[0;32mreturn\u001b[0m \u001b[0mcallable_\u001b[0m\u001b[0;34m(\u001b[0m\u001b[0;34m*\u001b[0m\u001b[0margs\u001b[0m\u001b[0;34m,\u001b[0m \u001b[0;34m**\u001b[0m\u001b[0mkwargs\u001b[0m\u001b[0;34m)\u001b[0m\u001b[0;34m\u001b[0m\u001b[0;34m\u001b[0m\u001b[0m\n\u001b[1;32m     73\u001b[0m         \u001b[0;32mexcept\u001b[0m \u001b[0mgrpc\u001b[0m\u001b[0;34m.\u001b[0m\u001b[0mRpcError\u001b[0m \u001b[0;32mas\u001b[0m \u001b[0mexc\u001b[0m\u001b[0;34m:\u001b[0m\u001b[0;34m\u001b[0m\u001b[0;34m\u001b[0m\u001b[0m\n\u001b[0;32m---> 74\u001b[0;31m             \u001b[0;32mraise\u001b[0m \u001b[0mexceptions\u001b[0m\u001b[0;34m.\u001b[0m\u001b[0mfrom_grpc_error\u001b[0m\u001b[0;34m(\u001b[0m\u001b[0mexc\u001b[0m\u001b[0;34m)\u001b[0m \u001b[0;32mfrom\u001b[0m \u001b[0mexc\u001b[0m\u001b[0;34m\u001b[0m\u001b[0;34m\u001b[0m\u001b[0m\n\u001b[0m\u001b[1;32m     75\u001b[0m \u001b[0;34m\u001b[0m\u001b[0m\n\u001b[1;32m     76\u001b[0m     \u001b[0;32mreturn\u001b[0m \u001b[0merror_remapped_callable\u001b[0m\u001b[0;34m\u001b[0m\u001b[0;34m\u001b[0m\u001b[0m\n",
            "\u001b[0;31mNotFound\u001b[0m: 404 Index 'embvs_tutorial_deployed_02140617' is not found."
          ]
        }
      ],
      "source": [
        "# Test query\n",
        "response = my_index_endpoint.find_neighbors(\n",
        "    deployed_index_id=DEPLOYED_INDEX_ID,\n",
        "    queries=test_embeddings,\n",
        "    num_neighbors=20,\n",
        ")\n",
        "\n",
        "# show the result\n",
        "import numpy as np\n",
        "\n",
        "for idx, neighbor in enumerate(response[0]):\n",
        "    id = np.int64(neighbor.id)\n",
        "    similar = df.query(\"id == @id\", engine=\"python\")\n",
        "    print(f\"{neighbor.distance:.4f} {similar.title.values[0]}\")"
      ]
    },
    {
      "cell_type": "markdown",
      "metadata": {
        "id": "tPDOL9caoYZ9"
      },
      "source": [
        "The `find_neighbors` function only takes milliseconds to fetch the similar items even when you have billions of items on the Index, thanks to the ScaNN algorithm. Vector Search also supports [autoscaling](https://cloud.google.com/vertex-ai/docs/vector-search/deploy-index-public#autoscaling) which can automatically resize the number of nodes based on the demands of your workloads."
      ]
    },
    {
      "cell_type": "markdown",
      "metadata": {
        "id": "DDt4D6FDyc66"
      },
      "source": [
        "# IMPORTANT: Cleaning Up\n",
        "\n",
        "In case you are using your own Cloud project, not a temporary project on Qwiklab, please make sure to delete all the Indexes, Index Endpoints and Cloud Storage buckets after finishing this tutorial. Otherwise the remaining objects would **incur unexpected costs**.\n",
        "\n",
        "If you used Workbench, you may also need to delete the Notebooks from [the console](https://console.cloud.google.com/vertex-ai/workbench)."
      ]
    },
    {
      "cell_type": "code",
      "execution_count": 2,
      "metadata": {
        "id": "MEsKVzguyxNx",
        "outputId": "9ffc333b-7389-44b4-f93f-39a848498051",
        "colab": {
          "base_uri": "https://localhost:8080/",
          "height": 233
        }
      },
      "outputs": [
        {
          "name": "stdout",
          "output_type": "stream",
          "text": [
            "Press Enter to delete Index Endpoint, Index and Cloud Storage bucket:\n"
          ]
        },
        {
          "output_type": "error",
          "ename": "NameError",
          "evalue": "name 'my_index_endpoint' is not defined",
          "traceback": [
            "\u001b[0;31m---------------------------------------------------------------------------\u001b[0m",
            "\u001b[0;31mNameError\u001b[0m                                 Traceback (most recent call last)",
            "\u001b[0;32m<ipython-input-2-b9af6c001756>\u001b[0m in \u001b[0;36m<cell line: 5>\u001b[0;34m()\u001b[0m\n\u001b[1;32m      3\u001b[0m \u001b[0;34m\u001b[0m\u001b[0m\n\u001b[1;32m      4\u001b[0m \u001b[0;31m# delete Index Endpoint\u001b[0m\u001b[0;34m\u001b[0m\u001b[0;34m\u001b[0m\u001b[0m\n\u001b[0;32m----> 5\u001b[0;31m \u001b[0mmy_index_endpoint\u001b[0m\u001b[0;34m.\u001b[0m\u001b[0mundeploy_all\u001b[0m\u001b[0;34m(\u001b[0m\u001b[0;34m)\u001b[0m\u001b[0;34m\u001b[0m\u001b[0;34m\u001b[0m\u001b[0m\n\u001b[0m\u001b[1;32m      6\u001b[0m \u001b[0mmy_index_endpoint\u001b[0m\u001b[0;34m.\u001b[0m\u001b[0mdelete\u001b[0m\u001b[0;34m(\u001b[0m\u001b[0mforce\u001b[0m\u001b[0;34m=\u001b[0m\u001b[0;32mTrue\u001b[0m\u001b[0;34m)\u001b[0m\u001b[0;34m\u001b[0m\u001b[0;34m\u001b[0m\u001b[0m\n\u001b[1;32m      7\u001b[0m \u001b[0;34m\u001b[0m\u001b[0m\n",
            "\u001b[0;31mNameError\u001b[0m: name 'my_index_endpoint' is not defined"
          ]
        }
      ],
      "source": [
        "# wait for a confirmation\n",
        "input(\"Press Enter to delete Index Endpoint, Index and Cloud Storage bucket:\")\n",
        "\n",
        "# delete Index Endpoint\n",
        "my_index_endpoint.undeploy_all()\n",
        "my_index_endpoint.delete(force=True)\n",
        "\n",
        "# delete Index\n",
        "my_index.delete()\n",
        "\n",
        "# delete Cloud Storage bucket\n",
        "! gsutil rm -r {BUCKET_URI}"
      ]
    },
    {
      "cell_type": "markdown",
      "metadata": {
        "id": "b8k26QOF3Ys7"
      },
      "source": [
        "# Summary\n",
        "\n",
        "## Grounding LLM outputs with Vertex AI Vector Search\n",
        "\n",
        "As we have seen, by combining the Embeddings API and Vector Search, you can use the embeddings to \"ground\" LLM outputs to real business data with low latency.\n",
        "\n",
        "For example, if an user asks a question, Embeddings API can convert it to an embedding, and issue an query on Vector Search to find similar embeddings in its index. Those embeddings represent the actual business data in the databases. As we are just retrieving the business data and not generating any artificial texts, there is no risk of having hallucinations in the result.\n",
        "\n",
        "![](https://storage.googleapis.com/gweb-cloudblog-publish/original_images/10._grounding.png)\n",
        "\n",
        "### The difference between the questions and answers\n",
        "\n",
        "In this tutorial, we have used the Stack Overflow dataset. There is a reason why we had to use it; As the dataset has many pairs of **questions and answers**, so you can just find quesions similar to your question to find answers to it.\n",
        "\n",
        "In many business use cases, the semantics (meaning) of questions and answers are different. Also, there could be cases where you would want to add variety of recommended or personalized items to the results, like product search on e-commerce sites.\n",
        "\n",
        "In these cases, the simple semantics search don't work well. It's more like a recommendation system problem where you may want to train a model (e.g. Two-Tower model) to learn the relationship between the question embedding space and answer embedding space. Also, many production systems adds reranking phase after the semantic search to achieve higher search quality. Please see [Scaling deep retrieval with TensorFlow Recommenders and Vertex AI Matching Engine](https://cloud.google.com/blog/products/ai-machine-learning/scaling-deep-retrieval-tensorflow-two-towers-architecture) to learn more.\n",
        "\n",
        "### Hybrid of semantic + keyword search\n",
        "\n",
        "Another typical challenge you will face in production system is to support keyword search combined with the semantic search. For example, for e-commerce product search, you may want to let users find product by entering its product name or model number. As LLM doesn't memorize those product names or model numbers, semantic search can't handle those \"usual\" search functionalities.\n",
        "\n",
        "[Vertex AI Search](https://cloud.google.com/blog/products/ai-machine-learning/vertex-ai-search-and-conversation-is-now-generally-available) is another product you may consider for those requirements. While Vector Search provides a simple semantic search capability only, Search provides a integrated search solution that combines semantic search, keyword search, reranking and filtering, available as an out-of-the-box tool.\n",
        "\n",
        "### What about Retrieval Augmented Generation (RAG)?\n",
        "\n",
        "In this tutorial, we have looked at the simple combination of LLM embeddings and vector search. From this starting point, you may also extend the design to [Retrieval Augmented Generation (RAG)](https://www.google.com/search?q=Retrieval+Augmented+Generation+(RAG)&oq=Retrieval+Augmented+Generation+(RAG)).\n",
        "\n",
        "RAG is a popular architecture pattern of implementing grounding with LLM with text chat UI. The idea is to have the LLM text chat UI as a frontend for the document retrieval with vector search and summarization of the result.\n",
        "\n",
        "![](https://storage.googleapis.com/gweb-cloudblog-publish/images/Figure-7-Ask_Your_Documents_Flow.max-529x434.png)\n",
        "\n",
        "There are some pros and cons between the two solutions.\n",
        "\n",
        "| | Emb + vector search | RAG |\n",
        "|---|---|---|\n",
        "| Design | simple | complex |\n",
        "| UI | Text search UI | Text chat UI |\n",
        "| Summarization of result | No | Yes |\n",
        "| Multi-turn (Context aware) | No | Yes |\n",
        "| Latency | millisecs | seconds |\n",
        "| Cost | lower | higher |\n",
        "| Hallucinations | No risk | Some risk |\n",
        "\n",
        "The Embedding + vector search pattern we have looked at with this tutorial provides simple, fast and low cost semantic search functionality with the LLM intelligence. RAG adds context-aware text chat experience and result summarization to it. While RAG provides the more \"Gen AI-ish\" experience, it also adds a risk of hallucination and higher cost and time for the text generation.\n",
        "\n",
        "To learn more about how to build a RAG solution, you may look at [Building Generative AI applications made easy with Vertex AI PaLM API and LangChain](https://cloud.google.com/blog/products/ai-machine-learning/generative-ai-applications-with-vertex-ai-palm-2-models-and-langchain).\n",
        "\n",
        "## Resources\n",
        "\n",
        "To learn more, please check out the following resources:\n",
        "\n",
        "### Documentations\n",
        "\n",
        "[Vertex AI Embeddings for Text API documentation\n",
        "](https://cloud.google.com/vertex-ai/docs/generative-ai/embeddings/get-text-embeddings)\n",
        "\n",
        "[Vector Search documentation](https://cloud.google.com/vertex-ai/docs/matching-engine/overview)\n",
        "\n",
        "### Vector Search blog posts\n",
        "\n",
        "[Vertex Matching Engine: Blazing fast and massively scalable nearest neighbor search](https://cloud.google.com/blog/products/ai-machine-learning/vertex-matching-engine-blazing-fast-and-massively-scalable-nearest-neighbor-search)\n",
        "\n",
        "[Find anything blazingly fast with Google's vector search technology](https://cloud.google.com/blog/topics/developers-practitioners/find-anything-blazingly-fast-googles-vector-search-technology)\n",
        "\n",
        "[Enabling real-time AI with Streaming Ingestion in Vertex AI](https://cloud.google.com/blog/products/ai-machine-learning/real-time-ai-with-google-cloud-vertex-ai)\n",
        "\n",
        "[Mercari leverages Google's vector search technology to create a new marketplace](https://cloud.google.com/blog/topics/developers-practitioners/mercari-leverages-googles-vector-search-technology-create-new-marketplace)\n",
        "\n",
        "[Recommending news articles using Vertex AI Matching Engine](https://cloud.google.com/blog/products/ai-machine-learning/recommending-articles-using-vertex-ai-matching-engine)\n",
        "\n",
        "[What is Multimodal Search: \"LLMs with vision\" change businesses](https://cloud.google.com/blog/products/ai-machine-learning/multimodal-generative-ai-search)"
      ]
    },
    {
      "cell_type": "markdown",
      "metadata": {
        "id": "BE1tELsH-u8N"
      },
      "source": [
        "# Utilities\n",
        "\n",
        "Sometimes it takes tens of minutes to create or deploy Indexes and you would lose connection with the Colab runtime. In that case, instead of creating or deploying new Index again, you can check [the Vector Search Console](https://console.cloud.google.com/vertex-ai/matching-engine/index-endpoints) and get the existing ones to continue."
      ]
    },
    {
      "cell_type": "markdown",
      "metadata": {
        "id": "wF_pkdpJ-yaq"
      },
      "source": [
        "## Get an existing Index\n",
        "\n",
        "To get an Index object that already exists, replace the following `[your-index-id]` with the index ID and run the cell. You can check the ID on [the Vector Search Console > INDEXES tab](https://console.cloud.google.com/vertex-ai/matching-engine/indexes)."
      ]
    },
    {
      "cell_type": "code",
      "execution_count": 24,
      "metadata": {
        "id": "mEBkZZt_-0jG"
      },
      "outputs": [],
      "source": [
        "my_index_id = \"3412712568802770944\"  # @param {type:\"string\"}\n",
        "my_index = aiplatform.MatchingEngineIndex(my_index_id)"
      ]
    },
    {
      "cell_type": "markdown",
      "metadata": {
        "id": "_vlgzkyw-3CI"
      },
      "source": [
        "## Get an existing Index Endpoint\n",
        "\n",
        "To get an Index Endpoint object that already exists, replace the following `[your-index-endpoint-id]` with the Index Endpoint ID and run the cell. You can check the ID on [the Vector Search Console > INDEX ENDPOINTS tab](https://console.cloud.google.com/vertex-ai/matching-engine/index-endpoints)."
      ]
    },
    {
      "cell_type": "code",
      "execution_count": 25,
      "metadata": {
        "id": "E0OFnirF-6Rk"
      },
      "outputs": [],
      "source": [
        "my_index_endpoint_id = \"5411184903448428544\"  # @param {type:\"string\"}\n",
        "my_index_endpoint = aiplatform.MatchingEngineIndexEndpoint(my_index_endpoint_id)"
      ]
    }
  ],
  "metadata": {
    "colab": {
      "provenance": []
    },
    "environment": {
      "kernel": "python3",
      "name": "tf2-gpu.2-11.m108",
      "type": "gcloud",
      "uri": "gcr.io/deeplearning-platform-release/tf2-gpu.2-11:m108"
    },
    "kernelspec": {
      "display_name": "Python 3 (ipykernel)",
      "language": "python",
      "name": "python3"
    },
    "language_info": {
      "codemirror_mode": {
        "name": "ipython",
        "version": 3
      },
      "file_extension": ".py",
      "mimetype": "text/x-python",
      "name": "python",
      "nbconvert_exporter": "python",
      "pygments_lexer": "ipython3",
      "version": "3.10.10"
    }
  },
  "nbformat": 4,
  "nbformat_minor": 0
}